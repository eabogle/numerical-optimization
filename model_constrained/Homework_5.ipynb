{
 "cells": [
  {
   "cell_type": "markdown",
   "id": "c2a0d222-45d5-43f5-95a1-de1755752d59",
   "metadata": {},
   "source": [
    "### MTH 610 Model Constrained Optimization 2 (Homework 2)"
   ]
  },
  {
   "cell_type": "markdown",
   "id": "5976f8e7-5fb7-41ee-96fa-b012e2f7a723",
   "metadata": {},
   "source": [
    "#### Title"
   ]
  },
  {
   "cell_type": "code",
   "execution_count": null,
   "id": "09b91101-fd72-4feb-b35e-cb3bcc722f7e",
   "metadata": {},
   "outputs": [],
   "source": []
  }
 ],
 "metadata": {
  "kernelspec": {
   "display_name": "Python [conda env:optimization]",
   "language": "python",
   "name": "conda-env-optimization-py"
  },
  "language_info": {
   "codemirror_mode": {
    "name": "ipython",
    "version": 3
   },
   "file_extension": ".py",
   "mimetype": "text/x-python",
   "name": "python",
   "nbconvert_exporter": "python",
   "pygments_lexer": "ipython3",
   "version": "3.10.13"
  }
 },
 "nbformat": 4,
 "nbformat_minor": 5
}
