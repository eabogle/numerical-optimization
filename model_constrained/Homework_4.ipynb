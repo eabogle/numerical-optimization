{
 "cells": [
  {
   "cell_type": "markdown",
   "id": "9ba5823e-f282-45cb-ac57-6b3f53361e77",
   "metadata": {},
   "source": [
    "### MTH 610 Model Constrained Optimization 2 (Homework 1)"
   ]
  },
  {
   "cell_type": "markdown",
   "id": "d49c4ae7-2890-4578-a9d2-7a26d7e6db9a",
   "metadata": {},
   "source": [
    "#### Problem 1 (Continuous Derivation of First and Second Order Derivative Information)"
   ]
  },
  {
   "cell_type": "markdown",
   "id": "db350144-f13b-4dc5-b8b3-f56c047fb060",
   "metadata": {},
   "source": [
    "Consider the boundary value problem (BVP) for a function $x:[0,1] \\to \\mathbb{R}$,\n",
    "$$\n",
    "\\begin{cases}\n",
    "-x''(t)+x^3(t)=u\\\\\n",
    "x(0)=0, \\quad x(1)=0\n",
    "\\end{cases}\n",
    "$$\n",
    "where $u\\in\\mathbb{R}$ is a constant scalar time-independent parameter. A repsponse (cost) functional is defined in terms of the $L^2$-distance between the solution $x(t)$ to the BVP above and a speicified (data/goal) function $y(t)$, \n",
    "$$\n",
    "\\tilde{J}(u)=\\frac{1}{2}\\int_0^1|x(t)-y(t)|^2dt\n",
    "$$"
   ]
  },
  {
   "cell_type": "markdown",
   "id": "55e7216d-6007-479e-ac52-b2eaf4496a38",
   "metadata": {},
   "source": [
    "The first thing we want to do is derive the equations to evaluate the first- and second-order derivatives $\\tilde{J}'(u)$ and $\\tilde{J}''(u)$, respectively. "
   ]
  },
  {
   "cell_type": "markdown",
   "id": "73a3b2ea-418f-45e3-a664-215267a4b587",
   "metadata": {},
   "source": [
    "We will first need to find $\\tilde{J}'(u)$."
   ]
  },
  {
   "cell_type": "markdown",
   "id": "dc22de86-95a6-46b9-8558-38d64b8d04b5",
   "metadata": {},
   "source": [
    "We know that that first variation in the cost function is given by\n",
    "\\begin{align*}\n",
    "\\delta \\tilde{J}(u)&=\\delta J(x,u)\\\\\n",
    "&= \\langle \\nabla_x J, \\delta x \\rangle_{L^2([0,1])}\\\\\n",
    "&=\\langle x-y,\\delta x\\rangle_{L^2([0,1])}\n",
    "\\end{align*}"
   ]
  },
  {
   "cell_type": "markdown",
   "id": "4f8f8776-99c1-4840-b418-5c5c544eff7d",
   "metadata": {},
   "source": [
    "Furthermore, the first variation in the model (TLM) is given by the following:\n",
    "\\begin{cases}\n",
    "-(\\delta x)''+3x^2\\delta x = \\delta u\\\\\n",
    "\\delta x(0)=0,, \\quad \\delta x(1)=0\n",
    "\\label{eq:star} \\tag{TLM}\n",
    "\\end{cases}"
   ]
  },
  {
   "cell_type": "markdown",
   "id": "fcf3b6e4-37b3-4f8b-bf78-b53ffa98b1e3",
   "metadata": {},
   "source": [
    "Now, we take the inner produce, in the model space, of first variation in the model with the adjoint function $\\lambda \\in L^2([0,1])$ to get:\n",
    "\\begin{equation}\n",
    "\\langle -(\\delta x)''+3x^2\\delta x, \\lambda \\rangle_{L^2([0,1])} = \\langle \\delta u, \\lambda \\rangle_{L^2([0,1])}\n",
    "\\label{eq:1} \\tag{1}\n",
    "\\end{equation}"
   ]
  },
  {
   "cell_type": "markdown",
   "id": "082b8bbe-7d26-42db-93b2-7958bd9eca85",
   "metadata": {},
   "source": [
    "Furthermore, doing integration by parts twice we get that (1) is equivalent to the following: \n",
    "\\begin{equation*}\n",
    "(-\\delta x' \\lambda + \\delta x \\lambda ')|^1_0 + \\langle -\\lambda '' +3x^2\\lambda, \\delta x \\rangle_{L^2([0,1])} = \\langle \\lambda, \\delta u \\rangle_{L^2([0,1])}\n",
    "\\end{equation*}"
   ]
  },
  {
   "cell_type": "markdown",
   "id": "6141acab-0519-4f64-a704-0b9b808a1a66",
   "metadata": {},
   "source": [
    "Since we know $\\delta x(0)=\\delta x(1) =0$, if we define $\\lambda$ to be the solution to the following (BVP) first order adjoint (FOA) model,\n",
    "\\begin{cases}\n",
    "\\lambda''+3x^2\\lambda=x-y\\\\\n",
    "\\lambda(0)=0, \\quad \\lambda(1)=0\n",
    "\\label{eq:FOA} \\tag{FOA}\n",
    "\\end{cases}\n",
    "then we know, \n",
    "\\begin{align*}\n",
    "\\delta \\tilde{J}(u)&=\\langle x-y, \\delta x\\rangle_{L^2([0,1])}\\\\\n",
    "&=\\langle \\lambda''+3x^2\\lambda, \\delta x \\rangle_{L^2([0,1])}\\\\\n",
    "&= \\langle \\lambda, \\delta u \\rangle_{L^2([0,1])}\\\\\n",
    "&=\\biggl< \\int_0^1 \\lambda (t) dt, \\delta u \\biggr>_{\\mathbb{R}}\n",
    "\\end{align*}"
   ]
  },
  {
   "cell_type": "markdown",
   "id": "b6756d62-999c-4528-b950-aa7abeeb4080",
   "metadata": {},
   "source": [
    "Therefore, we know\n",
    "\\begin{equation}\n",
    "\\nabla_u\\tilde{J}(u)=\\tilde{J}'(u)=\\int_0^1 \\lambda (t) dt \\in \\mathbb{R}\n",
    "\\label{eq:Jpu} \\tag{$\\tilde{J}'(u)$}\n",
    "\\end{equation}"
   ]
  },
  {
   "cell_type": "markdown",
   "id": "ee4748c4-821c-48ce-9a8d-34fb27245cd9",
   "metadata": {},
   "source": [
    "Now we want to find $\\tilde{J}''(u)$. To do so, we will use a testing scalar $v=1\\in \\mathbb{R}$ and work to find $\\tilde{J}''(u)v.$"
   ]
  },
  {
   "cell_type": "markdown",
   "id": "95a0bd12-f072-400d-a807-4f8abc3db266",
   "metadata": {},
   "source": [
    "Let $q(x,\\lambda, u)=q(x(u), \\lambda (u), u) =\\tilde{q}(u) = \\nabla_u \\tilde{J}(u)v= \\tilde{J}'(u)v = \\langle \\tilde{J}'(u),1 \\rangle_{\\mathbb{R}} = \\langle \\lambda, 1 \\rangle_{L^2([0,1])}$\n",
    "<br>\n",
    "<br>\n",
    "Since $\\tilde{J}''(u)=\\tilde{J}''(u)v = \\nabla^2_{uu} \\tilde{J} = \\nabla_u \\tilde{q}(u)$ we will consider the new cost function $\\tilde{q}(u)$ with two constraints given by the original model (BVP) and the FOA model (BVP). With this setup we can repeat a similar process as before to get $\\tilde{J}''(u)$. "
   ]
  },
  {
   "cell_type": "markdown",
   "id": "e81078a5-8ac1-4570-95ce-487e32ca5553",
   "metadata": {},
   "source": [
    "We start by taking the first variation of $\\tilde{q}(u)$:\n",
    "\\begin{align*}\n",
    "\\delta \\tilde{q}(u)&=\\delta q(x, \\lambda, u)\\\\\n",
    "&= \\langle \\nabla_x q, \\delta x \\rangle_{L^2([0,1])} + \\langle \\nabla_{\\lambda} q, \\delta \\lambda \\rangle_{L^2([0,1])} + \\langle \\nabla_u q, \\delta u \\rangle_{\\mathbb{R}}\\\\\n",
    "&= \\langle 1, \\delta \\lambda \\rangle_{L^2([0,1])}\n",
    "\\end{align*}"
   ]
  },
  {
   "cell_type": "markdown",
   "id": "0b0fc110-f1b0-4176-8409-709d7d902b05",
   "metadata": {},
   "source": [
    "Now, we take a first variation in our FOA model and get the following:\n",
    "\n",
    "\\begin{cases}\n",
    "-(\\delta \\lambda)'' + 6x \\lambda \\delta x + 3x^2 \\delta \\lambda = \\delta x \\\\\n",
    "\\delta \\lambda (0)=0, \\quad \\delta \\lambda(1) = 0\n",
    "\\end{cases}"
   ]
  },
  {
   "cell_type": "markdown",
   "id": "10ba10ab-2b75-4860-8831-52f441f38273",
   "metadata": {},
   "source": [
    "Furthermore, we take the inner product, in the model space, of the first variation in the FOA with the adjoint function $\\xi \\in L^2([0,1])$.\n",
    "\\begin{equation}\n",
    "\\langle - (\\delta \\lambda)'' + 6x\\lambda \\delta x + 3x^2 \\delta \\lambda, \\xi \\rangle_{L^2([0,1])}= \\langle \\delta x, \\xi \\rangle_{L^2([0,1])}\n",
    "\\label{eq:2} \\tag{2}\n",
    "\\end{equation}"
   ]
  },
  {
   "cell_type": "markdown",
   "id": "785ba6b8-fa9a-46b4-91bc-814e626239f7",
   "metadata": {},
   "source": [
    "Doing integration by parts twice we get that (2) is equivalent to the following: \n",
    "\\begin{equation*}\n",
    "(-(\\delta \\lambda)'\\xi + (\\delta \\lambda)\\xi ')|^1_0 + \\langle - \\xi '' + 3x^2 \\xi, \\delta \\lambda \\rangle_{L^2([0,1])} = \\langle \\xi - 6x\\lambda \\xi, \\delta x \\rangle_{L^2([0,1])}\n",
    "\\end{equation*}"
   ]
  },
  {
   "cell_type": "markdown",
   "id": "eed3e3e8-1939-4b4b-be8c-a28e7ffed050",
   "metadata": {},
   "source": [
    "Since we already know $\\delta \\lambda (0)= \\delta \\lambda (1)=0$, if we define $\\xi$ as the solution to the following BVP,\n",
    "\\begin{cases}\n",
    "-\\xi'' + 3x^2\\xi = 1\\\\\n",
    "\\xi (0)=0, \\quad ,\\xi (1)=0\n",
    "\\end{cases}\n",
    "then we can write $\\delta \\tilde{q}(u)$ in terms of $\\delta x$:\n",
    "\\begin{align*}\n",
    "\\delta \\tilde{q}(u)&=\\langle 1, \\delta \\lambda \\rangle_{L^2([0,1])}\\\\\n",
    "&=\\langle -\\xi'' + 3x^2\\xi, \\delta \\lambda \\rangle_{L^2([0,1])}\\\\\n",
    "&=\\langle \\xi - 6x\\lambda \\xi, \\delta x \\rangle_{L^2([0,1])}\\\\\n",
    "\\end{align*}"
   ]
  },
  {
   "cell_type": "markdown",
   "id": "16a5cbab-4cfa-4e73-92c6-31a3c6a5d1d9",
   "metadata": {},
   "source": [
    "Now we take the inner product, in the model space, of our original TLM with $\\eta \\in L^2([0,1])$.\n",
    "\\begin{equation}\n",
    "\\langle -(\\delta x)'' + 3x^2 \\delta x, \\eta \\rangle_{L^2([0,1])} = \\langle \\delta u, \\eta \\rangle_{L^2([0,1])}\n",
    "\\label{eq:3} \\tag{3}\n",
    "\\end{equation}"
   ]
  },
  {
   "cell_type": "markdown",
   "id": "1d6842b9-4e09-4943-8de4-e508aac68bef",
   "metadata": {},
   "source": [
    "Doing integration by parts twice we get (3) is equivalent to the following:\n",
    "\\begin{equation*}\n",
    "(-(\\delta x)' \\eta + \\delta x \\eta ')|^1_0 + \\langle - \\eta '' + 3x^2 \\eta, \\delta x \\rangle_{L^2([0,1])} = \\langle \\eta, \\delta u \\rangle_{L^2([0,1])}\n",
    "\\end{equation*}"
   ]
  },
  {
   "cell_type": "markdown",
   "id": "04802668-92c6-4f8f-a021-636c2f723002",
   "metadata": {},
   "source": [
    "Since we know $\\delta x(0)=\\delta x(1)=0$, if we define $\\eta$ as the solution to the following (BVP) second order adjoint (SOA) model,\n",
    "\\begin{cases}\n",
    "-\\eta '' + 3x^2 \\eta = \\xi -6x\\lambda \\eta\\\\\n",
    "\\eta (0)=0, \\quad \\eta (1)=0\n",
    "\\label{eq:SOA} \\tag{SOA}\n",
    "\\end{cases}\n",
    "we can write $\\delta \\tilde{q}(u)$ in the following way:\n",
    "\\begin{align*}\n",
    "\\delta \\tilde{q}(u) &= \\langle \\xi - 6x\\lambda \\xi, \\delta x \\rangle_{L^2([0,1])}\\\\\n",
    "&= \\langle -\\eta '' + 3x^2\\eta, \\delta x \\rangle_{L^2([0,1])}\\\\\n",
    "&= \\langle \\eta, \\delta u \\rangle_{L^2([0,1])}\\\\\n",
    "&= \\biggl< \\int_0^1 \\eta (t) dt, \\delta u \\biggr>_{\\mathbb{R}}\n",
    "\\end{align*}"
   ]
  },
  {
   "cell_type": "markdown",
   "id": "925451dc-c125-4efa-86b2-9499fba79ed5",
   "metadata": {},
   "source": [
    "Therefore we know \n",
    "\\begin{equation}\n",
    "\\nabla^2_{uu} \\tilde{J}(u)(1) = \\tilde{J}''(u)=\\int_0^1 \\eta (t) dt$\n",
    "\\label{eq:Jppu} \\tag{$\\tilde{J}''(u)$}\n",
    "\\end{equation}"
   ]
  },
  {
   "cell_type": "markdown",
   "id": "96697144-df12-4951-8ad0-a5e9e3a38937",
   "metadata": {},
   "source": [
    "Included below is both the code and the corresponding plots of $\\tilde{J}(u), \\tilde{J}'(u), \\tilde{J}''(u)$ for various input values of $u$ based on the continuous formulation above. "
   ]
  },
  {
   "cell_type": "code",
   "execution_count": 1,
   "id": "c8fb48be-3463-48c8-aac8-3d2f48ecbd94",
   "metadata": {
    "tags": []
   },
   "outputs": [],
   "source": [
    "#Import needed packages\n",
    "\n",
    "import matplotlib.pyplot as plt\n",
    "import numpy as np\n",
    "import scipy\n",
    "import sympy\n",
    "from scipy.optimize import fsolve"
   ]
  },
  {
   "cell_type": "code",
   "execution_count": 4,
   "id": "88a375b3-2381-46fe-9c00-9d504f8d29a7",
   "metadata": {
    "tags": []
   },
   "outputs": [],
   "source": [
    "def homework4prob1():\n",
    "    # Define constants\n",
    "    N=100\n",
    "    h=1/N\n",
    "    maxiter = 100000\n",
    "    tol = 1e-8\n",
    "    iteration = 0\n",
    "\n",
    "    # Define A, the (discrete Laplace) matrix\n",
    "    main_diag = 2 * np.eye(N-1)\n",
    "    minor_diags = -1 * (np.eye(N-1, k=-1) + np.eye(N-1, k=1))\n",
    "    A = 1/(h*h) * (main_diag + minor_diags)\n",
    "\n",
    "    # Initialize vectors\n",
    "    t_nodes = np.zeros(N+1)\n",
    "    yvect = np.zeros(N+1)\n",
    "\n",
    "    # Create y(t) vector based off y(t) = sin(pi*t)\n",
    "    def yfun(t):\n",
    "        return np.sin(np.pi * t)\n",
    "\n",
    "    for i in range(N+1):\n",
    "        t_nodes[i] = i*h\n",
    "        yvect[i] = yfun(t_nodes[i])\n",
    "        \n",
    "    smallyvect = yvect[1:-1]\n",
    "    \n",
    "    # Create initial guess vector x, lambda, xi, eta for fsolve with 0 boundary conditions\n",
    "    x_guess = np.zeros(N-1)\n",
    "    lamb_guess = np.zeros(N-1)\n",
    "    xi_guess = np.zeros(N-1)\n",
    "    eta_guess = np.zeros(N-1)\n",
    "\n",
    "    # Define nonlinear system of equations for x, lambda, xi, and eta BVP to find roots of using fsolve\n",
    "    def xequation(x, A, u):\n",
    "        return A @ x + x**3 - u\n",
    "\n",
    "    def lambequation(lamb, A, x, y):\n",
    "        return A @ lamb + 3*(x**2) * lamb - x + y\n",
    "    \n",
    "    def xiequation(xi, A, x):\n",
    "        return A @ xi + 3*(x**2)* xi - 1\n",
    "    \n",
    "    def etaequation(eta, A, x, xi, lamb):\n",
    "        return A @ eta + 3*(x**2) * eta - xi + 6 * x * lamb * xi\n",
    "\n",
    "    # Use fsolve to find approximate solution of BVPs\n",
    "    def solvex(x_guess, A, smalluvect):\n",
    "        resultx = fsolve(xequation, x_guess, args=(A, smalluvect), xtol=1e-10)\n",
    "        solx = np.zeros(N+1)\n",
    "        solx[1:-1] = resultx[:]\n",
    "        return(resultx, solx)\n",
    "    \n",
    "    def solvelamb(lamb_guess, A, resultx, smallyvect):\n",
    "        resultlamb = fsolve(lambequation, lamb_guess, args=(A, resultx, smallyvect), xtol=1e-10)\n",
    "        sollamb = np.zeros(N+1)\n",
    "        sollamb[1:-1] = resultlamb[:]\n",
    "        return(resultlamb, sollamb)\n",
    "    \n",
    "    def solvexi(xi_guess, A, resultx):\n",
    "        resultxi = fsolve(xiequation, xi_guess, args=(A, resultx), xtol=1e-10)\n",
    "        solxi = np.zeros(N+1)\n",
    "        solxi[1:-1] = resultxi[:]\n",
    "        return(resultxi)\n",
    "    \n",
    "    def solveeta(eta_guess, A, resultx, resultxi, resultlamb):\n",
    "        resulteta = fsolve(etaequation, eta_guess, args=(A, resultx, resultxi, resultlamb), xtol=1e-10)\n",
    "        soleta = np.zeros(N+1)\n",
    "        soleta[1:-1] = resulteta[:]\n",
    "        return(soleta)\n",
    "    \n",
    "    # Define J(u), J'(u), J''(u) function value after you have x based on choice of u\n",
    "    def jufun(solx, yvect):\n",
    "        error2 = (solx - yvect)**2\n",
    "        integral = np.trapz(error2, dx=1/len(solx))\n",
    "        return (1/2) * integral\n",
    "    \n",
    "    def jpufun(sollamb):\n",
    "        integral = np.trapz(sollamb, dx=1/len(sollamb))\n",
    "        return integral\n",
    "    \n",
    "    def jppufun(soleta):\n",
    "        integral = np.trapz(soleta, dx=1/len(soleta))\n",
    "        return integral\n",
    "\n",
    "    # Create uval vector for various u values from 0 <= u <= 20\n",
    "    u_val = np.zeros(2000)\n",
    "\n",
    "    for i in range(2000):\n",
    "        u_val[i] += (i*(1/N))\n",
    "        \n",
    "    # Initialize cost funciton, first derivative, and second derivative vectors \n",
    "    ju = []\n",
    "    jpu = []\n",
    "    jppu = []\n",
    "    \n",
    "    for i in range(2000):\n",
    "        uvalvect = u_val[i]*np.ones(N-1)\n",
    "        # Get J(u) information\n",
    "        resultx, solx = solvex(x_guess, A, uvalvect)\n",
    "        juval = jufun(solx, yvect)\n",
    "        ju.append(juval)\n",
    "        # Get J'(u) information\n",
    "        resultlamb, sollamb = solvelamb(lamb_guess, A, resultx, smallyvect)\n",
    "        jpuval = jpufun(sollamb)\n",
    "        jpu.append(jpuval)\n",
    "        # Get J''(u) information\n",
    "        resultxi = solvexi(xi_guess, A, resultx)\n",
    "        soleta = solveeta(eta_guess, A, resultx, resultxi, resultlamb)\n",
    "        jppuval = jppufun(soleta)\n",
    "        jppu.append(jppuval)\n",
    "        \n",
    "\n",
    "    # Plot J(u) function for various u values\n",
    "    plt.plot(u_val, ju, marker='o')\n",
    "    plt.xlabel(f'u')\n",
    "    plt.ylabel(f'J(u)')\n",
    "    plt.title(f'Reduced Cost Function Values (Continuous)')\n",
    "    plt.show()\n",
    "    \n",
    "    # Plot J'(u) function for various u values\n",
    "    plt.plot(u_val, jpu, marker='o')\n",
    "    plt.xlabel(f'u')\n",
    "    plt.ylabel(f'J\\'(u)')\n",
    "    plt.title(f'First Derivative of Reduced Cost Function (Continuous)')\n",
    "    plt.show()\n",
    "    \n",
    "    # Plot J''(u) function for various u values\n",
    "    plt.plot(u_val, jppu, marker='o')\n",
    "    plt.xlabel(f'u')\n",
    "    plt.ylabel(f'J\\'\\'(u)')\n",
    "    plt.title(f'Second Derivative of Reduced Cost Function (Continuous)')\n",
    "    plt.show()"
   ]
  },
  {
   "cell_type": "code",
   "execution_count": 5,
   "id": "4abc601e-5fea-49c4-9eec-31b87c98a1ec",
   "metadata": {
    "tags": []
   },
   "outputs": [
    {
     "data": {
      "image/png": "[encoded data removed]",
      "text/plain": [
       "<Figure size 640x480 with 1 Axes>"
      ]
     },
     "metadata": {},
     "output_type": "display_data"
    },
    {
     "data": {
      "image/png": "[encoded data removed]",
      "text/plain": [
       "<Figure size 640x480 with 1 Axes>"
      ]
     },
     "metadata": {},
     "output_type": "display_data"
    },
    {
     "data": {
      "image/png": "[encoded data removed]",
      "text/plain": [
       "<Figure size 640x480 with 1 Axes>"
      ]
     },
     "metadata": {},
     "output_type": "display_data"
    }
   ],
   "source": [
    "homework4prob1()"
   ]
  },
  {
   "cell_type": "markdown",
   "id": "2ed61a10-6f77-4360-87ab-80b7fbc01cf7",
   "metadata": {},
   "source": [
    "#### Problem 2 (Discrete Derivation of First and Second Order Derivative Information)"
   ]
  },
  {
   "cell_type": "markdown",
   "id": "6b68ffb5-bd02-448c-9668-5322b3d0005d",
   "metadata": {},
   "source": [
    "A discrete version to the original model BVP is obtained by considering a uniform partition of the interval $[0,1]$ with nodes $\\{t_i:i=0:n+1\\}$ at an increment $h=\\frac{1}{n+1}$,\n",
    "$$\n",
    "0=t_0<t_1<\\dots<t_n<t_{n+1}=1, \\quad t_i=i*h \\textrm{ for } i=0:n+1\n",
    "$$\n",
    "and an approximation for the second order derivative using a finite difference formula is \n",
    "$$\n",
    "x''(t_i)\\approx\\frac{x(t_{i+1})-2x(t_i)+x(t_{i-1})}{h^2}, \\quad i=1:n\n",
    "$$\n",
    "\n",
    "Therefore a discrete version of the BVP is given by,\n",
    "$$\n",
    "\\begin{cases}\n",
    "\\frac{x_{i+1}-2x_i+x_{i-1}}{h^2} + x^3_{i} = u_i, \\quad i=1:n\\\\\n",
    "x_0=0, \\quad x_{n+1}=0\n",
    "\\end{cases}\n",
    "$$\n",
    "where $x_i\\approx x(t_i), \\quad i=1:n$."
   ]
  },
  {
   "cell_type": "markdown",
   "id": "cc79019d-7629-4376-846d-04cb975c2f62",
   "metadata": {},
   "source": [
    "We can write this sytem of equations in matrix vector format,\n",
    "$$\n",
    "\\mathbf{A}\\mathbf{x}+\\mathbf{G}(\\mathbf{x})=u\\mathbf{1_N}\n",
    "$$\n",
    "where $u \\in \\mathbb{R}$ is a scalar, $\\mathbf{1_N}\\in \\mathbb{R}^N$ is the constant vector of 1's, $\\mathbf{A}\\in \\mathbb{R}^{N*N}$ is a scaled tridaigonal matrix with 2 on the main diagonal and -1 on the neighboring minor diagonals and the scaling constant is given by $\\frac{1}{h^2}$, and $\\mathbf{G}:\\mathbb{R}^N\\to\\mathbb{R}^N$ is a vector valued funcition with $x_i^3$ in each component. "
   ]
  },
  {
   "cell_type": "markdown",
   "id": "6e4eee9f-895b-4163-836d-17eceec79068",
   "metadata": {},
   "source": [
    "Furthermore, we can consider the following adapted cost function:\n",
    "$\\hat{J}(u) = \\frac{h}{2} || x-y||^2$\n",
    "where $y$ is a specified data/target vector. \n",
    "\n",
    "The first thing we want to do is derive the equations to evaluate the first- and second-order derivatives $\\hat{J}'(u)$ and $\\hat{J}''(u)$, respectively. "
   ]
  },
  {
   "cell_type": "markdown",
   "id": "39aa358c-1ec8-4be0-b29d-9c65d8cc6460",
   "metadata": {},
   "source": [
    "We will first need to find $\\tilde{J}'(u)$."
   ]
  },
  {
   "cell_type": "markdown",
   "id": "60d3bf74-a9a6-478c-a8f0-311b08abbd9f",
   "metadata": {},
   "source": [
    "First, we take a first variation in the cost function $\\tilde{J}(u)$ and get:\n",
    "\\begin{align*}\n",
    "\\delta \\hat{J}(u) &= \\delta J(x,u) \\\\\n",
    "&= \\langle \\nabla_x J, \\delta x \\rangle_{\\mathbb{R^n}} + \\langle \\nabla_u J, \\delta u \\rangle_{\\mathbb{R}} \\\\\n",
    "&= \\langle \\delta x, h(x-y) \\rangle_{\\mathbb{R^n}}\n",
    "\\end{align*}"
   ]
  },
  {
   "cell_type": "markdown",
   "id": "6595f8ee-cb4e-4f6b-8139-58cf127ae72c",
   "metadata": {},
   "source": [
    "Next, we take a first variation of our model:\n",
    "\\begin{equation}\n",
    "[A]\\delta x + [G_x] \\delta x = \\delta u \\mathbf{1}_n\n",
    "\\label{eq:TLM2} \\tag{TLM}\n",
    "\\end{equation}"
   ]
  },
  {
   "cell_type": "markdown",
   "id": "b303e0a2-e6c0-44e8-8626-810d277b0d56",
   "metadata": {},
   "source": [
    "Taking an inner product, in our model space $\\mathbb{R}^n$, with the adjoint vector $\\lambda \\in \\mathbb{R}^n$ we get,\n",
    "\\begin{equation}\n",
    "\\langle [A] \\delta x, \\lambda \\rangle_{\\mathbb{R}^n} + \\langle [G_x]\\delta x, \\lambda \\rangle_{\\mathbb{R}^n} = \\langle \\delta u \\mathbf{1}_n, \\lambda \\rangle_{\\mathbb{R}^n}\n",
    "\\label{eq:4} \\tag{4}\n",
    "\\end{equation}"
   ]
  },
  {
   "cell_type": "markdown",
   "id": "e414df5e-80fa-4091-9c3d-54a2d1287db9",
   "metadata": {},
   "source": [
    "By properties of the inner product in $\\mathbb{R}^n$ we get that (4) is equivalent to the following:\n",
    "\\begin{equation*}\n",
    "\\langle \\delta x, ([A]^T + [G_x]^T)\\lambda\\rangle_{\\mathbb{R}^n} = \\langle \\mathbf{1}_n^T \\lambda, \\delta u \\rangle_{\\mathbb{R}^n}\n",
    "\\end{equation*}\n",
    "Which by the symmetry of $[A], [G_x]$ we can write as \n",
    "\\begin{equation*}\n",
    "\\langle \\delta x, ([A] + [G_x])\\lambda\\rangle_{\\mathbb{R}^n} = \\langle \\mathbf{1}_n^T \\lambda, \\delta u \\rangle_{\\mathbb{R}^n}\n",
    "\\end{equation*}"
   ]
  },
  {
   "cell_type": "markdown",
   "id": "99aa9a70-93ad-4d25-9bb9-77d48be8c47d",
   "metadata": {},
   "source": [
    "Therfore, if we define $\\lambda$ to be the solution to the following second order adjoint (FOA) model,\n",
    "\\begin{align*}\n",
    "h(x-y) &=[A]^T\\lambda + [G_x]^T \\lambda\\\\\n",
    "&= [A]\\lambda + [G_x] \\lambda \\quad \\textrm{(by symmetry of $[A], [G_x]$)}\n",
    "\\label{eq:FOA2} \\tag{FOA}\n",
    "\\end{align*}\n",
    "\n",
    "we get that \n",
    "\\begin{align*}\n",
    " \\delta \\hat{J}(u) &= \\langle \\delta x, h(x-y) \\rangle_{\\mathbb{R}^n}\\\\\n",
    " &= \\langle \\delta x, [A]^T\\lambda + [G_x]^T \\lambda \\rangle_{\\mathbb{R}^n}\\\\\n",
    " &= \\langle \\lambda^T\\mathbf{1}_n, \\delta u \\rangle_{\\mathbb{R}^n}\\\\\n",
    " &= \\langle \\lambda^T\\mathbf{1}_n, \\delta u \\rangle_{\\mathbb{R}}\\\\\n",
    "\\end{align*}"
   ]
  },
  {
   "cell_type": "markdown",
   "id": "fa88d6ae-e147-4c89-ba69-92207ff2abfa",
   "metadata": {},
   "source": [
    "Therefore, we know that \n",
    "\\begin{equation}\n",
    "\\nabla_u \\hat{J}(u) = \\hat{J}'(u) = \\lambda^T \\mathbf{1}_n = \\sum_{i=1}^n \\lambda_i\n",
    "\\label{eq:Jp2} \\tag{$\\hat{J}'(u)$}\n",
    "\\end{equation}"
   ]
  },
  {
   "cell_type": "markdown",
   "id": "a7ef85ce-4612-4726-9cdf-166a5a0906bf",
   "metadata": {},
   "source": [
    "Now, we will work to find $\\hat{J}''(u)$. To do we will use a testing scalar $v=1\\in \\mathbb{R}$ and work to find $\\hat{J}''(u)v.$"
   ]
  },
  {
   "cell_type": "markdown",
   "id": "d8e41b98-12bb-451e-9fe8-04cd1256615a",
   "metadata": {},
   "source": [
    "Let $q(x,\\lambda, u)=q(x(u), \\lambda (u), u) =\\hat{q}(u) = \\nabla_u \\hat{J}(u)v = \\hat{J}'(u)v = \\langle \\hat{J}'(u),1 \\rangle_{\\mathbb{R}} = \\langle \\lambda, \\mathbf{1}_n \\rangle_{\\mathbb{R}^n}$\n",
    "<br>\n",
    "<br>\n",
    "Since $\\hat{J}''(u) = \\hat{J}''(u)v = \\nabla^2_{uu} \\hat{J}v = \\nabla_u \\hat{q}(u)$ we will consider the new cost function $\\hat{q}(u)$ with two constraints given by the original model and the FOA model. With this setup we can repeat a similar process as before to get $\\hat{J}''(u)$. "
   ]
  },
  {
   "cell_type": "markdown",
   "id": "484d701c-5022-4616-9c07-3f8c7511d6d6",
   "metadata": {},
   "source": [
    "We start by taking a first variation of our new cost function $\\hat{q}(u)$:\n",
    "\\begin{align*}\n",
    "\\delta \\hat{q}(u) &= \\delta q(x,\\lambda, u)\\\\\n",
    "&= \\langle \\nabla_x q, \\delta x \\rangle_{\\mathbb{R}^n} + \\langle \\nabla_\\lambda q, \\delta \\lambda \\rangle_{\\mathbb{R}^n}+ \\langle \\nabla_u q, \\delta u \\rangle_{\\mathbb{R}^n}\\\\\n",
    "&= \\langle \\delta\\lambda, \\mathbf{1}_n \\rangle_{\\mathbb{R}^n}\n",
    "\\end{align*}"
   ]
  },
  {
   "cell_type": "markdown",
   "id": "c7eec10c-0057-4f30-871f-270b1f0e1db4",
   "metadata": {},
   "source": [
    "Now, we take the first variation in our FOA model to get\n",
    "\\begin{equation*}\n",
    "h\\delta x = [A] \\delta \\lambda + [G_x \\lambda]_x \\delta x + [G_x]\\delta \\lambda \n",
    "\\end{equation*}"
   ]
  },
  {
   "cell_type": "markdown",
   "id": "cb2bdaae-e83a-432c-8588-939b8803c820",
   "metadata": {},
   "source": [
    "Next, we take the inner product, in the model space $\\mathbb{R}^n$, of the above with the adjoint vector $\\xi\\in \\mathbb{R}^n$:\n",
    "\\begin{equation} \n",
    "\\langle h \\delta x, \\xi \\rangle_{\\mathbb{R}^n} = \\langle [A] \\delta \\lambda + [G_x \\lambda]_x \\delta x + [G_x]\\delta \\lambda, \\xi \\rangle_{\\mathbb{R}^n} \n",
    "\\label{eq:5} \\tag{5}\n",
    "\\end{equation}"
   ]
  },
  {
   "cell_type": "markdown",
   "id": "8b1d9b1f-29c7-4cb6-bdd4-3d801be2c5af",
   "metadata": {},
   "source": [
    "Which by the properties of the inner product in $\\mathbb{R}^n$ we get that (5) is equivalent to the following:\n",
    "\\begin{equation*}\n",
    "\\langle \\delta x, (h[I] + [G_x\\lambda]_x)\\xi \\rangle_{\\mathbb{R}^n} = \\langle \\delta \\lambda, [A+G_x]\\xi \\rangle_{\\mathbb{R}^n}\n",
    "\\end{equation*}"
   ]
  },
  {
   "cell_type": "markdown",
   "id": "a8ea65e2-e958-4416-86e7-4b3a269e9272",
   "metadata": {},
   "source": [
    "Now, we can define $\\xi$ as the solution to\n",
    "\\begin{equation*}\n",
    "[A+G_x]\\xi = \\mathbf{1}_n\n",
    "\\end{equation*}\n",
    "in order to write $\\delta \\hat{q}(u)$ in the following form:\n",
    "\\begin{align*}\n",
    "\\delta \\hat{q}(u) &=\\delta \\lambda, \\mathbf{1}_n \\rangle_{\\mathbb{R}^n}\\\\\n",
    "&= \\langle \\delta \\lambda, [A+G_x]\\xi \\rangle_{\\mathbb{R}^n}\\\\\n",
    "&= \\langle \\delta x, (h[I] + [G_x\\lambda]_x)\\xi \\rangle_{\\mathbb{R}^n}\n",
    "\\end{align*}"
   ]
  },
  {
   "cell_type": "markdown",
   "id": "ec6d1e42-3a78-42d3-8684-08e611e48a2a",
   "metadata": {},
   "source": [
    "Now, we take the inner product, in the model space $\\mathbb{R}^n$, of our TLM with the adjoint vector $\\eta \\in \\mathbb{R}^n$\n",
    "\\begin{equation}\n",
    "\\langle [A]\\delta x, \\eta \\rangle_{\\mathbb{R}^n} + \\langle [G_x] \\delta x, \\eta \\rangle_{\\mathbb{R}^n} = \\langle \\delta u \\mathbf{1}_n, \\eta \\rangle_{\\mathbb{R}^n}\n",
    "\\label{eq:6} \\tag{6}\n",
    "\\end{equation}"
   ]
  },
  {
   "cell_type": "markdown",
   "id": "56e5bedb-8dbb-45bb-9f5b-ba4d38549a3b",
   "metadata": {},
   "source": [
    "By properties of the inner product in $\\mathbb{R}^n$ we get that (6) is equivalent to the following:\n",
    "\\begin{equation*}\n",
    "\\langle \\delta x, ([A]^T +[G_x]^T)\\eta \\rangle_{\\mathbb{R}^n} = \\langle \\delta u, \\eta^T \\mathbf{1}_n \\rangle_{\\mathbb{R}^n}\\\\\n",
    "\\implies \\langle \\delta x, ([A] +[G_x])\\eta \\rangle_{\\mathbb{R}^n} = \\langle \\delta u, \\eta^T \\mathbf{1}_n \\rangle_{\\mathbb{R}} \\quad \\textrm{(By symmetry of $[A], [G_x]$)}\n",
    "\\end{equation*}"
   ]
  },
  {
   "cell_type": "markdown",
   "id": "45ffbb72-5331-4193-9fe4-826c333d9f19",
   "metadata": {},
   "source": [
    "Therefore, if we define $\\eta$ to be the solution to the following second order adjoint (SOA) model\n",
    "\\begin{equation}\n",
    "([A]+ [G_x])\\eta = (h[I] + [G_x\\lambda]_x)\\xi\n",
    "\\label{eq:SOA2} \\tag{SOA}\n",
    "\\end{equation}\n",
    "we can write $\\delta \\hat{q}(u)$ in the following way:\n",
    "\\begin{align*}\n",
    "\\delta \\hat{q}(u) &= \\langle \\delta x, (h[I] + [G_x \\lambda]_x) \\xi \\rangle_{\\mathbb{R}^n}\\\\\n",
    "&= \\langle \\delta x, ([A]+ [G_x])\\eta \\rangle_{\\mathbb{R}^n}\\\\\n",
    "&= \\langle \\delta u, \\eta^T \\mathbf{1}_n \\rangle_{\\mathbb{R}^n}\\\\\n",
    "&= \\langle \\delta u, \\eta^T \\mathbf{1}_n \\rangle_{\\mathbb{R}}\n",
    "\\end{align*}"
   ]
  },
  {
   "cell_type": "markdown",
   "id": "c159a8c1-3f29-424a-8b98-54ead6ec9a4f",
   "metadata": {},
   "source": [
    "Therefore, we must have that \n",
    "\\begin{equation}\n",
    "\\nabla^2_{uu}= \\hat{J}''(u) = \\eta^T \\mathbf{1_n} = \\sum_{i=1}^n \\eta_i\n",
    "\\label{eq:Jppu} \\tag{$\\hat{J}''(u)$}\n",
    "\\end{equation}"
   ]
  },
  {
   "cell_type": "markdown",
   "id": "756c4d65-7065-44f0-8293-d175dc0d4e6c",
   "metadata": {},
   "source": [
    "Included below is both the code and the corresponding plots of $\\hat{J}(u), \\hat{J}'(u), \\hat{J}''(u)$ for various input values of $u$ based on the discrete formulation above. "
   ]
  },
  {
   "cell_type": "code",
   "execution_count": null,
   "id": "d259d52b-72f3-4d16-9f7b-27d54ebda411",
   "metadata": {},
   "outputs": [],
   "source": []
  }
 ],
 "metadata": {
  "kernelspec": {
   "display_name": "Python [conda env:optimization]",
   "language": "python",
   "name": "conda-env-optimization-py"
  },
  "language_info": {
   "codemirror_mode": {
    "name": "ipython",
    "version": 3
   },
   "file_extension": ".py",
   "mimetype": "text/x-python",
   "name": "python",
   "nbconvert_exporter": "python",
   "pygments_lexer": "ipython3",
   "version": "3.10.13"
  }
 },
 "nbformat": 4,
 "nbformat_minor": 5
}
