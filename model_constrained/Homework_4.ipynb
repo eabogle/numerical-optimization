{
 "cells": [
  {
   "cell_type": "markdown",
   "id": "9ba5823e-f282-45cb-ac57-6b3f53361e77",
   "metadata": {},
   "source": [
    "### MTH 610 Model Constrained Optimization 2 (Homework 1)"
   ]
  },
  {
   "cell_type": "markdown",
   "id": "d49c4ae7-2890-4578-a9d2-7a26d7e6db9a",
   "metadata": {},
   "source": [
    "#### Problem "
   ]
  },
  {
   "cell_type": "markdown",
   "id": "db350144-f13b-4dc5-b8b3-f56c047fb060",
   "metadata": {},
   "source": [
    "Consider the boundary value problem (BVP) for a function $x:[0,1] \\to \\mathbb{R}$,\n",
    "$$\n",
    "\\begin{cases}\n",
    "-x''(t)+x^3(t)=u\\\\\n",
    "x(0)=0, \\quad x(1)=0\n",
    "\\end{cases}\n",
    "$$\n",
    "where $u\\in\\mathbb{R}$ is a constant scalar time-independent parameter. A repsponse (cost) functional is defined in terms of the $L^2$-distance between the solution $x(t)$ to the BVP above and a speicified (data/goal) function $y(t)$, \n",
    "$$\n",
    "\\tilde{J}(u)=\\frac{1}{2}\\int_0^1|x(t)-y(t)|^2dt\n",
    "$$"
   ]
  },
  {
   "cell_type": "markdown",
   "id": "55e7216d-6007-479e-ac52-b2eaf4496a38",
   "metadata": {},
   "source": [
    "The first thing we want to do is derive the equations to evaluate the first- and second-order derivatives $\\tilde{J}'(u)$ and $\\tilde{J}''(u)$, respectively. "
   ]
  },
  {
   "cell_type": "markdown",
   "id": "488ebc05-3553-4dc0-8caf-a3956dbb31c7",
   "metadata": {},
   "source": [
    "We know that \n",
    "$$\n",
    "\\delta \\tilde{J}(u) = \\int_0^1 (x(t)-\\overline{x}(t))\\delta x dt.\n",
    "$$\n",
    "and the first variation in the model is given by the following:\n",
    "\n",
    "\n",
    "$$\n",
    "\\begin{cases}\n",
    "-\\delta x'' + 3x^2\\delta x = \\delta u \\\\\n",
    "\\delta x(0)=0, \\quad \\delta x(1)=0\n",
    "\\end{cases}\n",
    "$$\n",
    "\n",
    "Now in the first variation of the model we will take the inner product (in the model space) with the adjoint function $\\lambda(t)$ to get,\n",
    "$$\n",
    "\\int_0^1-\\delta x''\\lambda + 3x^2\\delta x \\lambda dt = \\int_0^1\\delta u \\lambda dt\n",
    "$$\n",
    "\n",
    "$$\n",
    "\\implies -\\delta x'\\lambda |_0^1 +\\int_0^1 \\delta x'\\lambda' + 3x^2\\delta x \\lambda dt = \\int_0^1 \\delta u dt\n",
    "$$\n",
    "\n",
    "$$\n",
    "\\implies (-\\delta x'\\lambda + \\delta x \\lambda')|_0^1 + \\int_0^1 -\\lambda''\\delta x + 3x^2\\lambda \\delta x dt = \\int_0^1 \\delta u \\lambda dt \n",
    "$$\n",
    "\n",
    "$$\n",
    "\\implies -\\delta x'(1) \\lambda (1) + \\delta x(1) \\lambda' (1) - (-\\delta x'(0) \\lambda (0) + \\delta x(0) \\lambda' (0)) + \\int_0^1 -\\lambda'' \\delta (x) + 3x^2 \\lambda \\delta (x) dt = \\int_0^1 \\delta u \\lambda dt\n",
    "$$\n",
    "\n",
    "Therfore, we define $\\lambda (t)$ to be the solution to the following BVP first order adjoint model:\n",
    "$$\n",
    "\\begin{cases}\n",
    "-\\lambda''(t) +3(x(t))^2 \\lambda(t) = x(t) - \\overline{x}(t) \\\\\n",
    "\\lambda (0) =0, \\quad \\lambda(1)=0\n",
    "\\end{cases}\n",
    "$$\n",
    "\n",
    "With this definition of $\\lambda (t)$ we obtain $\\delta \\tilde{J}(u)$ in terms of $\\delta u$,\n",
    "$$\n",
    "\\begin{align*}\n",
    "\\delta \\tilde{J}(u) &= \\int_0^1 \\delta u \\lambda(t) dt\\\\\n",
    "&= [\\int_0^1 \\lambda(t) dt]\\delta u\n",
    "\\end{align*}\n",
    "$$\n",
    "\n",
    "Thus we have $\\nabla_u \\tilde{J}(u)=\\tilde{J}'(u)=\\int_0^1 \\lambda(t) dt$."
   ]
  },
  {
   "cell_type": "markdown",
   "id": "73a3b2ea-418f-45e3-a664-215267a4b587",
   "metadata": {},
   "source": [
    "Now we need to find $\\tilde{J}''(u)$."
   ]
  },
  {
   "cell_type": "code",
   "execution_count": null,
   "id": "06447186-23a3-4e6f-a86b-9a9836b359fa",
   "metadata": {},
   "outputs": [],
   "source": []
  }
 ],
 "metadata": {
  "kernelspec": {
   "display_name": "Python [conda env:optimization]",
   "language": "python",
   "name": "conda-env-optimization-py"
  },
  "language_info": {
   "codemirror_mode": {
    "name": "ipython",
    "version": 3
   },
   "file_extension": ".py",
   "mimetype": "text/x-python",
   "name": "python",
   "nbconvert_exporter": "python",
   "pygments_lexer": "ipython3",
   "version": "3.10.13"
  }
 },
 "nbformat": 4,
 "nbformat_minor": 5
}
