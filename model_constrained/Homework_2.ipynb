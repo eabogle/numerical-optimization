{
 "cells": [
  {
   "cell_type": "markdown",
   "id": "34a15b26-ef7b-4878-a49f-29a5fdb50d09",
   "metadata": {},
   "source": [
    "### MTH 610 Model Constrained Optimization 1 (Homework 2)"
   ]
  },
  {
   "cell_type": "markdown",
   "id": "8528cbde-d290-4a29-976b-e166ec60e0c6",
   "metadata": {},
   "source": [
    "##### Emily Bogle\n",
    "##### 10/17/23"
   ]
  },
  {
   "cell_type": "markdown",
   "id": "8a9a690c-cd7d-4b55-8167-81eb547c713e",
   "metadata": {},
   "source": [
    "#### Problem "
   ]
  },
  {
   "cell_type": "markdown",
   "id": "55edc8aa-dcf2-40c2-bfa9-be9e293d8750",
   "metadata": {},
   "source": [
    "Consider the boundary value problem (BVP) for a function $x:[0,1] \\to \\mathbb{R}$,\n",
    "$$\n",
    "\\begin{cases}\n",
    "-x''(t)+x^3(t)=u\\\\\n",
    "(x(0)=0, \\quad x(1)=0\n",
    "\\end{cases}\n",
    "$$\n",
    "where $u\\in\\mathbb{R}$ is a constant scalar parameter. In this assignment we want to find an optimal parameter value $u^*$ such that the solution $x(t)$ to the BVP minimizes the cost functional \n",
    "$$\n",
    "J(x,u)=\\frac{\\omega}{2}|u|^2+\\frac{1}{2}\\int_0^1|x(t)-\\overline{x}(t)|^2dt\n",
    "$$\n",
    "where $\\overline{x}(t)$ is a given function (desired outcome/goal, measurement) and $\\omega\\geq 0$ is a specified fixed weight parameter. "
   ]
  },
  {
   "cell_type": "markdown",
   "id": "a6049ce4-6b1e-467f-aac7-1ce807af766e",
   "metadata": {},
   "source": [
    "#### Part 1 (Optimality Conditions)"
   ]
  },
  {
   "cell_type": "markdown",
   "id": "717d7c5e-72e8-4fbe-9224-c95fa8b84286",
   "metadata": {},
   "source": [
    "We know that \n",
    "$$\n",
    "\\delta J = \\omega u \\delta u +\\int_0^1 (x(t)-\\overline{x}(t))\\delta x dt.\n",
    "$$\n",
    "Now, the model for the variation $\\delta x$ is given by the following:\n",
    "\n",
    "\n",
    "$$\n",
    "\\begin{cases}\n",
    "-\\delta x'' + 3x^2\\delta x = \\delta u \\\\\n",
    "\\delta x(0)=0, \\quad \\delta x(1)=0\n",
    "\\end{cases}\n",
    "$$\n",
    "\n",
    "We will take the inner product with lambda function to get,\n",
    "$$\n",
    "\\int_0^1-\\delta x''\\lambda + 3x^2\\delta x \\lambda dt = \\int_0^1\\delta u \\lambda dt \\\\\n",
    "\\implies -\\delta x'\\lambda |_0^1 +\\int_0^1 \\delta x'\\lambda' + 3x^2\\delta x \\lambda dt = \\int_0^1 \\delta u dt\\\\\n",
    "\\implies (-\\delta x'\\lambda + \\delta x \\lambda')|_0^1 + \\int_0^1 -\\lambda''\\delta x + 3x^2\\lambda \\delta x dt = \\int_0^1 \\delta u \\lambda dt \\\\\n",
    "\\implies -\\delta x'(1) \\lambda (1) + \\delta x(1) \\lambda' (1) - (-\\delta x'(0) \\lambda (0) + \\delta x(0) \\lambda' (0)) + \\int_0^1 -\\lambda'' \\delta (x) + 3x^2 \\lambda \\delta (x) dt = \\int_0^1 \\delta u \\lambda dt\n",
    "$$\n",
    "\n",
    "Therfore, we define $\\lambda (t)$ solution to the BVP (adjoint model) as the following:\n",
    "$$\n",
    "\\begin{cases}\n",
    "-\\lambda''(t) +3(x(t))^2 \\lambda(t) = x(t) - \\overline{x}(t) \\\\\n",
    "\\lambda (0) =0, \\quad \\lambda(1)=0\n",
    "\\end{cases}\n",
    "$$\n",
    "\n",
    "With this definition of $\\lambda (t)$ we obtain $\\delta J$ in terms of $\\delta u$,\n",
    "$$\n",
    "\\begin{align*}\n",
    "\\delta J &= \\omega u \\delta u +\\int_0^1 \\delta u \\lambda(t) dt\\\\\n",
    "&= [\\omega u + \\int_0^1 \\lambda(t) dt]\\delta u\n",
    "\\end{align*}\n",
    "$$\n",
    "\n",
    "Now, the optimality condition ($\\nabla_u J=0$) is given by,\n",
    "$$\n",
    "\\omega u + \\int_0^1 \\lambda(t) dt =0\n",
    "$$\n",
    "\n",
    "Therefore our first order optimality conditions (Euler Lagrange Equations) for the minmization of the cost functional subject the the BVP constraint are given by,\n",
    "$$\n",
    "\\begin{cases}\n",
    "-x''(t)+x^3(t)=u\\\\\n",
    "-\\lambda''(t) + 3(x(t))^2\\lambda(t) = x(t)-\\overline{x}(x)\\\\\n",
    "x(0)=0, \\quad x(1)=0\\\\\n",
    "\\lambda(0)=0, \\quad \\lambda(1)=0\n",
    "\\end{cases}\n",
    "$$\n",
    "with the optimality condition:\n",
    "$$\n",
    "\\omega u +\\int_0^1 \\lambda(t)dt =0\n",
    "$$"
   ]
  },
  {
   "cell_type": "markdown",
   "id": "9664fed5-60e4-425e-be1a-4ea1fc790794",
   "metadata": {},
   "source": [
    "#### Part 2 (Use Method of Choice to Estimate $u^*$)"
   ]
  },
  {
   "cell_type": "code",
   "execution_count": null,
   "id": "36212b00-1fe5-4c7c-aecc-6baef335b8a1",
   "metadata": {},
   "outputs": [],
   "source": []
  },
  {
   "cell_type": "markdown",
   "id": "f8a7029e-efd8-44a8-b4cc-a8acfd1236a3",
   "metadata": {},
   "source": [
    "#### Part 3 (Validate Estimate $u^*$)"
   ]
  },
  {
   "cell_type": "code",
   "execution_count": null,
   "id": "3cb4ef25-b34d-45da-a405-40586254022d",
   "metadata": {},
   "outputs": [],
   "source": []
  }
 ],
 "metadata": {
  "kernelspec": {
   "display_name": "Python [conda env:optimization]",
   "language": "python",
   "name": "conda-env-optimization-py"
  },
  "language_info": {
   "codemirror_mode": {
    "name": "ipython",
    "version": 3
   },
   "file_extension": ".py",
   "mimetype": "text/x-python",
   "name": "python",
   "nbconvert_exporter": "python",
   "pygments_lexer": "ipython3",
   "version": "3.10.13"
  }
 },
 "nbformat": 4,
 "nbformat_minor": 5
}
