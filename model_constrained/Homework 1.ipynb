{
 "cells": [
  {
   "cell_type": "markdown",
   "id": "11083853-3465-47fe-8dca-96aaa7c18715",
   "metadata": {},
   "source": [
    "### MTH 610 Model Constrained Optimization 1 (Homework 1)"
   ]
  },
  {
   "cell_type": "markdown",
   "id": "ee0aded4-c779-4b46-8baa-d119d8a0f844",
   "metadata": {},
   "source": [
    "##### Emily Bogle\n",
    "##### 10/17/23"
   ]
  },
  {
   "cell_type": "markdown",
   "id": "91ce2181-122b-49fa-a795-63810e1d82be",
   "metadata": {},
   "source": [
    "##### Problem 1"
   ]
  },
  {
   "cell_type": "markdown",
   "id": "3da81794-1ee0-4274-b2c1-2cd317b593da",
   "metadata": {},
   "source": [
    "##### Problem 2\n",
    "Consider the multistage system obtained by applying Euler's method to the IVP (1-2)\n",
    "\n",
    "\n",
    "$$\n",
    "x_{i+1}=x_i+h[a x_i+u_i], \\ i=0:N-1 \\quad \\quad \\textrm{(4)}\n",
    "$$\n",
    "\n",
    "$$\n",
    "x_0=\\overline{x_0} \\quad \\quad \\quad \\quad \\quad \\quad \\quad \\quad \\quad \\quad \\quad \\quad \\quad \\quad \\quad \\textrm{(5)}\n",
    "$$\n",
    "\n",
    "with the specified initial value $\\overline{x_0}$. The time step $h$ is taken as $h=\\frac{1}{N}$, such that $x_N$ is the discrete version of the solution to (1)-(2) at time $t=1$.\n",
    "\n",
    "The cost functional is also defined as a discrete version to (3),\n",
    "$$\n",
    "\\tilde{J}(x,u)= \\frac{1}{2} x_N^2 +\\frac{h}{2} \\sum\\limits_{i=0}^{N-1}[x_i^2+u_i^2] \\quad \\quad \\quad \\quad \\textrm{(6)}\n",
    "$$\n",
    "\n",
    "- Find the expression of control vector $\\mathbf{u}\\in \\mathbb{R}^N$ the minimizes $\\tilde{J}$ subject to the model constraints and with the specified initial condition $\\overline{x_0}$.\n",
    "- Plot the discrete optimal control $u$, state $x$ and the Lagrange multipliers $\\lambda$ for each othe following\n",
    "    - $\\overline{x_0}=2, a=1$\n",
    "    - $\\overline{x_0}=2, a=-1$\n",
    "  Compare with the results obtained in the continuous formulation (Problem 1).\n",
    "\n",
    "Use $N=100$ for the plots. \n",
    "  "
   ]
  },
  {
   "cell_type": "code",
   "execution_count": null,
   "id": "e6d6e057-fbc9-4d8f-8eec-eed6a9971de0",
   "metadata": {},
   "outputs": [],
   "source": []
  }
 ],
 "metadata": {
  "kernelspec": {
   "display_name": "Python optimization",
   "language": "python",
   "name": "optimization"
  },
  "language_info": {
   "codemirror_mode": {
    "name": "ipython",
    "version": 3
   },
   "file_extension": ".py",
   "mimetype": "text/x-python",
   "name": "python",
   "nbconvert_exporter": "python",
   "pygments_lexer": "ipython3",
   "version": "3.11.4"
  }
 },
 "nbformat": 4,
 "nbformat_minor": 5
}
