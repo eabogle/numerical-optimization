{
 "cells": [
  {
   "cell_type": "markdown",
   "id": "3e03ace1-66f3-47fb-b069-a1d2e29055e1",
   "metadata": {},
   "source": [
    "# HW 2 Set 1 - Problem 2 (SVM Problem in $R^2$)"
   ]
  },
  {
   "cell_type": "markdown",
   "id": "2cda84b7-392f-4286-b53b-2f7ca4591a5f",
   "metadata": {},
   "source": [
    "Use the dataset titled ”DataSetR2.txt”, which consists of a finite set of points in $\\mathbb{R}^2$, each labeled as −1 or 1. Employ the subgradient method to determine a hyperplane that maximizes the margin between the points labeled −1 and those labeled 1. Provide your solution in the form $⟨w, x⟩ + b = 0,$ where $w \\in \\mathbb{R}^2$ and $b \\in \\mathbb{R}$. "
   ]
  },
  {
   "cell_type": "code",
   "execution_count": null,
   "id": "08d79b70-c074-47f8-8c9f-eb221ad32d1e",
   "metadata": {},
   "outputs": [],
   "source": []
  },
  {
   "cell_type": "markdown",
   "id": "da73c410-67f0-43af-b435-8c81c823e03c",
   "metadata": {},
   "source": [
    "# HW 2 Set 1 - Problem 3 (SVM Problem on Subset of Iris Dataset)"
   ]
  },
  {
   "cell_type": "markdown",
   "id": "08859ae2-1a7f-447c-a29e-d2a27f963406",
   "metadata": {},
   "source": [
    "Use the dataset titled “irissetonaandversicolor.txt”, which includes data on two types of iris flowers labeled as −1 or 1. Allocate 80\\% of the dataset for training and reserve the remaining 20\\% for testing. Solve the support vector machine (SVM) problem using either the subgradient method or the stochastic subgradient method based on the training data. Then, evaluate the accuracy of your SVM model using the test data."
   ]
  },
  {
   "cell_type": "code",
   "execution_count": null,
   "id": "1fde9d9f-6fe1-4968-aaa9-0be895c3fd7a",
   "metadata": {},
   "outputs": [],
   "source": []
  }
 ],
 "metadata": {
  "kernelspec": {
   "display_name": "Python [conda env:optimization]",
   "language": "python",
   "name": "conda-env-optimization-py"
  },
  "language_info": {
   "codemirror_mode": {
    "name": "ipython",
    "version": 3
   },
   "file_extension": ".py",
   "mimetype": "text/x-python",
   "name": "python",
   "nbconvert_exporter": "python",
   "pygments_lexer": "ipython3",
   "version": "3.10.13"
  }
 },
 "nbformat": 4,
 "nbformat_minor": 5
}
