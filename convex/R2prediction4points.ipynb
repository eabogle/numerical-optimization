{
 "cells": [
  {
   "cell_type": "code",
   "execution_count": 1,
   "metadata": {
    "colab": {
     "base_uri": "https://localhost:8080/"
    },
    "id": "oz1VZ5eBuJYF",
    "outputId": "cbf8742d-e018-49f3-fa74-7cc0bee1a3d6",
    "tags": []
   },
   "outputs": [
    {
     "ename": "ModuleNotFoundError",
     "evalue": "No module named 'numpy'",
     "output_type": "error",
     "traceback": [
      "\u001b[0;31m---------------------------------------------------------------------------\u001b[0m",
      "\u001b[0;31mModuleNotFoundError\u001b[0m                       Traceback (most recent call last)",
      "Cell \u001b[0;32mIn[1], line 1\u001b[0m\n\u001b[0;32m----> 1\u001b[0m \u001b[38;5;28;01mimport\u001b[39;00m \u001b[38;5;21;01mnumpy\u001b[39;00m \u001b[38;5;28;01mas\u001b[39;00m \u001b[38;5;21;01mnp\u001b[39;00m\n\u001b[1;32m      2\u001b[0m \u001b[38;5;28;01mfrom\u001b[39;00m \u001b[38;5;21;01mcvxopt\u001b[39;00m \u001b[38;5;28;01mimport\u001b[39;00m matrix, solvers\n\u001b[1;32m      3\u001b[0m \u001b[38;5;28;01mimport\u001b[39;00m \u001b[38;5;21;01mmatplotlib\u001b[39;00m\u001b[38;5;21;01m.\u001b[39;00m\u001b[38;5;21;01mpyplot\u001b[39;00m \u001b[38;5;28;01mas\u001b[39;00m \u001b[38;5;21;01mplt\u001b[39;00m\n",
      "\u001b[0;31mModuleNotFoundError\u001b[0m: No module named 'numpy'"
     ]
    }
   ],
   "source": [
    "import numpy as np\n",
    "from cvxopt import matrix, solvers\n",
    "import matplotlib.pyplot as plt\n",
    "\n",
    "def kn(x, y):\n",
    "    return (1 + np.dot(x, y))**2\n",
    "\n",
    "# Separate features and target variable\n",
    "X = np.array([[-1, 0, 1], [1, 0, 1], [-2, 0, 1], [2, 0, 1]])\n",
    "y = np.array([1, 1, -1, -1])\n",
    "\n",
    "# Get the number of samples\n",
    "m = X.shape[0]\n",
    "\n",
    "# Initialize P matrix\n",
    "P = np.zeros((m, m))  # Fixed the matrix initialization\n",
    "\n",
    "# Compute P using nested loops\n",
    "for i in range(m):\n",
    "    for j in range(m):\n",
    "        P[i, j] = y[i] * y[j] * kn(X[i], X[j])\n",
    "\n",
    "# Define b as a vector of ones\n",
    "b = np.ones(m)\n",
    "\n",
    "# Convert P and b to cvxopt matrix format\n",
    "P_cvxopt = matrix(P)\n",
    "q_cvxopt = matrix(-b)\n",
    "\n",
    "# Define G and h for the inequality constraints (lambda >= 0)\n",
    "G = matrix(-np.eye(m))\n",
    "h = matrix(np.zeros(m))\n",
    "\n",
    "# Solve the quadratic programming problem\n",
    "solution = solvers.qp(P_cvxopt, q_cvxopt, G, h)\n",
    "lambda_solution = np.array(solution['x']).flatten()  # Flatten the solution array\n",
    "\n",
    "# Display the solution\n",
    "print(\"Lambda solution:\", lambda_solution)\n",
    "\n",
    "# Prediction\n",
    "xnew = np.array([1, np.sqrt(3), 1])\n",
    "predict = 0\n",
    "for i in range(len(y)):\n",
    "    predict += y[i] * lambda_solution[i] * kn(X[i], xnew)\n",
    "\n",
    "\n",
    "print(P)\n",
    "print(\"Prediction:\", predict)"
   ]
  },
  {
   "cell_type": "code",
   "execution_count": null,
   "metadata": {},
   "outputs": [],
   "source": []
  }
 ],
 "metadata": {
  "colab": {
   "provenance": []
  },
  "kernelspec": {
   "display_name": "Python 3 (ipykernel)",
   "language": "python",
   "name": "python3"
  },
  "language_info": {
   "codemirror_mode": {
    "name": "ipython",
    "version": 3
   },
   "file_extension": ".py",
   "mimetype": "text/x-python",
   "name": "python",
   "nbconvert_exporter": "python",
   "pygments_lexer": "ipython3",
   "version": "3.11.4"
  }
 },
 "nbformat": 4,
 "nbformat_minor": 4
}
