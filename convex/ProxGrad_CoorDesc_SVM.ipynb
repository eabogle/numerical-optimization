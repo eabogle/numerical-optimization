{
 "cells": [
  {
   "cell_type": "markdown",
   "id": "e080232c-5b63-4a62-ac72-334d4236a59d",
   "metadata": {},
   "source": [
    "# HW 4 Set 1 - Problem 1 (Prox)"
   ]
  },
  {
   "cell_type": "markdown",
   "id": "129cf92b-836f-4e78-840e-dab9c9929868",
   "metadata": {},
   "source": [
    "Consider the function $p:\\mathbb{R}^{3\\times 4}\\to\\mathbb{R}$ given by:\n",
    "$$p(X)=||X||_*, X\\in \\mathbb{R}^{3\\times 4}.$$"
   ]
  },
  {
   "cell_type": "markdown",
   "id": "9351731e-9aa8-4b76-8124-097851a421ee",
   "metadata": {},
   "source": [
    "Write a Python function to find $\\textrm{prox}_{\\mu p}(X),$ where $\\mu>0$ and $X$ are inputs of the function."
   ]
  },
  {
   "cell_type": "code",
   "execution_count": 3,
   "id": "8736079c-bfbb-4ca3-99d9-b39ab133eaf1",
   "metadata": {
    "tags": []
   },
   "outputs": [],
   "source": [
    "import numpy as np"
   ]
  },
  {
   "cell_type": "code",
   "execution_count": 14,
   "id": "abd080c6-de71-4c57-be7a-d4b78e6c54eb",
   "metadata": {
    "tags": []
   },
   "outputs": [],
   "source": [
    "def prox_nuclear_norm(X, mu):\n",
    "    # Perform SVD\n",
    "    U, S, Vt = np.linalg.svd(X, full_matrices=False)\n",
    "    \n",
    "    # construct v\n",
    "    v = np.zeros(len(S))\n",
    "    for i in range (len(S)):\n",
    "        if (S[i] < (-1)*mu):\n",
    "            v[i] = S[i] + mu\n",
    "        if (S[i] > mu):\n",
    "            v[i] = S[i] - mu\n",
    "        else:\n",
    "            v[i] = 0\n",
    "    \n",
    "    # Reconstruct the matrix \n",
    "    return U @ np.diag(v) @ Vt"
   ]
  },
  {
   "cell_type": "markdown",
   "id": "aa0a7bca-90a6-4ca5-8ffb-73364821c45a",
   "metadata": {},
   "source": [
    "Use the function in part (a) to find $\\textrm{prox}_{\\mu p}(X)$ for the case where $\\mu=\\frac{1}{2}$ and $X\\in \\mathbb{R}^{3\\times 4}$ consists of all ones."
   ]
  },
  {
   "cell_type": "code",
   "execution_count": 15,
   "id": "94986937-94d4-44df-8683-d76ba4a6df1c",
   "metadata": {
    "tags": []
   },
   "outputs": [
    {
     "data": {
      "text/plain": [
       "array([[0.85566243, 0.85566243, 0.85566243, 0.85566243],\n",
       "       [0.85566243, 0.85566243, 0.85566243, 0.85566243],\n",
       "       [0.85566243, 0.85566243, 0.85566243, 0.85566243]])"
      ]
     },
     "execution_count": 15,
     "metadata": {},
     "output_type": "execute_result"
    }
   ],
   "source": [
    "# Define the matrix X and parameter mu\n",
    "X = np.ones((3, 4))\n",
    "mu = 0.5\n",
    "\n",
    "# Compute the prox\n",
    "prox_result = prox_nuclear_norm(X, mu)\n",
    "\n",
    "# Print the result\n",
    "prox_result"
   ]
  },
  {
   "cell_type": "markdown",
   "id": "26ec11e0-f7b5-4afd-8958-99a1f7e597e0",
   "metadata": {},
   "source": [
    "# HW 4 Set 1 - Problem 2 (Accel. Gradient)"
   ]
  },
  {
   "cell_type": "markdown",
   "id": "0fcf419f-ec58-481e-bb87-3a49061f6af5",
   "metadata": {},
   "source": [
    "Given the matrix below with three missing entries:\n",
    "$$M=\\begin{bmatrix}\n",
    "    \\textrm{NaN} & 0.38119569 &-0.23319457  & 0.26949725 & -0.23018613 & \\textrm{NaN} \\\\\n",
    "    -0.21834876 & -0.10610883 & 0.06491155 & -0.07501669 & 0.06407412 & 0.0643938 \\\\\n",
    "    1.02283804 & 0.49705868 & -0.30407318 & 0.35140992 & -0.30015033 & -0.30164782 \\\\\n",
    "    2.40518827 & 1.16882601 & \\textrm{NaN} & 0.82633515 & -0.70579898 & -0.70932032 \\\\\n",
    "    -0.36977801 & -0.17969743 & 0.10992901 & -0.12704227 & 0.10851082 & 0.10905219 \\\\\n",
    "    -0.36975208 & -0.17968483 & 0.1099213 & -0.12703336 & 0.10850321 & 0.10904455\n",
    "\\end{bmatrix}$$\n",
    "Use the accelerated proximal gradient method to recover the missing entries by solving the optimization problem\n",
    "$$\\textrm{minimize} f(X)=\\frac{1}{2}||P_\\Omega (X)-P_\\Omega(M)||_{\\textrm{fro}}^2+\\lambda ||X||_*, X\\in \\mathbb{R}^{6\\times 6}.$$\n",
    "The purpose is to find a matrix $X$ with rank as small as possible that approximates $P_\\Omega(M)$."
   ]
  },
  {
   "cell_type": "code",
   "execution_count": 17,
   "id": "0b3691ff-b0fb-421c-9248-a3e23fff8035",
   "metadata": {
    "tags": []
   },
   "outputs": [
    {
     "name": "stdout",
     "output_type": "stream",
     "text": [
      "[[ 0.72333411  0.35359453 -0.20102293  0.24998382 -0.21351908 -0.21332034]\n",
      " [-0.21250035 -0.10387864  0.05905631 -0.07343999  0.06272742  0.06266903]\n",
      " [ 0.99544162  0.48661152 -0.27664477  0.344024   -0.29384178 -0.29356827]\n",
      " [ 2.32941892  1.13871276 -0.64737252  0.80504572 -0.68761501 -0.68697498]\n",
      " [-0.35987361 -0.17592056  0.10001305 -0.1243721   0.10623014  0.10613126]\n",
      " [-0.35984838 -0.17590822  0.10000604 -0.12436337  0.10622269  0.10612382]]\n"
     ]
    }
   ],
   "source": [
    "def proj_omega(X, Omega):\n",
    "    return X * Omega\n",
    "\n",
    "def accel_prox_grad(M, Omega, lambda_, t, max_iter=1000, tol=1e-6):\n",
    "    X = np.zeros_like(M)\n",
    "    Y = np.zeros_like(M)\n",
    "    beta = 1\n",
    "    \n",
    "    for k in range(max_iter):\n",
    "        X_old = X\n",
    "        # Gradient descent step\n",
    "        grad = proj_omega(Y, Omega) - M\n",
    "        Y = Y - t * grad\n",
    "        \n",
    "        # Proximal step\n",
    "        X = prox_nuclear_norm(Y, lambda_ * t)\n",
    "        \n",
    "        # Momentum term update\n",
    "        beta_next = (1 + np.sqrt(1 + 4 * beta**2)) / 2\n",
    "        Y = X + ((beta - 1) / beta_next) * (X - X_old)\n",
    "        beta = beta_next\n",
    "        \n",
    "        # Check for convergence\n",
    "        if np.linalg.norm(X - X_old, 'fro') < tol:\n",
    "            break\n",
    "    \n",
    "    return X\n",
    "\n",
    "# Define the matrix M and the mask Omega\n",
    "M = np.array([\n",
    "    [np.nan, 0.38119569, -0.23319457, 0.26949725, -0.23018613, np.nan],\n",
    "    [-0.21834876, -0.10610883, 0.06491155, -0.07501669, 0.06407412, 0.0643938],\n",
    "    [1.02283804, 0.49705868, -0.30407318, 0.35140992, -0.30015033, -0.30164782],\n",
    "    [2.40518827, 1.16882601, np.nan, 0.82633515, -0.70579898, -0.70932032],\n",
    "    [-0.36977801, -0.17969743, 0.10992901, -0.12704227, 0.10851082, 0.10905219],\n",
    "    [-0.36975208, -0.17968483, 0.1099213, -0.12703336, 0.10850321, 0.10904455]\n",
    "])\n",
    "\n",
    "Omega = ~np.isnan(M)  # Create a binary mask for observed entries\n",
    "M[np.isnan(M)] = 0  # Replace NaNs with zeros for the computation\n",
    "\n",
    "# Parameters\n",
    "lambda_ = 0.1  # Regularization parameter\n",
    "t = 1.0  # Step size\n",
    "\n",
    "# Solve the matrix completion problem\n",
    "completed_matrix = accel_prox_grad(M, Omega, lambda_, t)\n",
    "\n",
    "print(completed_matrix)"
   ]
  },
  {
   "cell_type": "markdown",
   "id": "c4294d62-abab-4d7a-a830-5315f5fabcea",
   "metadata": {},
   "source": [
    "# HW 4 Set 1 - Problem 3 (Coor. Desc.)"
   ]
  },
  {
   "cell_type": "markdown",
   "id": "a3cb2048-5165-4744-a5da-3c5eff22c798",
   "metadata": {},
   "source": [
    "Use the data set ”housing.txt” and the coordinate descent method to\n",
    "find $w_0, w_1, w_2$ in the linear function $f(x_1, x_2) = w_0 +w_1x_1 +w_2x_2$ from the linear regression model.\n",
    "Then make prediction for the price of a house with a living area of 2080 $\\textrm{ft}^2$ and 4 bedrooms."
   ]
  },
  {
   "cell_type": "code",
   "execution_count": 22,
   "id": "908edae9-f618-4363-b91d-35fc31bf26d5",
   "metadata": {
    "tags": []
   },
   "outputs": [
    {
     "name": "stdout",
     "output_type": "stream",
     "text": [
      "w0: 340412.6595744681, w1: 109447.79646954431, w2: -6578.354854106664\n",
      "Predicted house price for 2080 ft^2 and 4 bedrooms: $344204.04\n"
     ]
    }
   ],
   "source": [
    "# Load data\n",
    "data = np.loadtxt('Housing.txt', delimiter=',')\n",
    "\n",
    "# Split the data into features and target variable\n",
    "X = data[:, :-1]  # Features: living area and number of bedrooms\n",
    "y = data[:, -1]   # Target: house price\n",
    "\n",
    "# Add a column of ones to X \n",
    "X = np.hstack((np.ones((X.shape[0], 1)), X))\n",
    "\n",
    "# Scale features \n",
    "mean_X = np.mean(X, axis=0)\n",
    "std_X = np.std(X, axis=0)\n",
    "X[:, 1:] = (X[:, 1:] - mean_X[1:]) / std_X[1:]\n",
    "\n",
    "def coordinate_descent(X, y, max_iter=1000, tol=1e-6):\n",
    "    m, n = X.shape\n",
    "    w = np.zeros(n)\n",
    "    \n",
    "    for iteration in range(max_iter):\n",
    "        w_old = np.copy(w)\n",
    "        \n",
    "        for j in range(n):\n",
    "            # Calculate the partial residual excluding the current feature\n",
    "            residual = y - (X @ w - X[:, j] * w[j])\n",
    "            \n",
    "            # Update the coefficient for feature j\n",
    "            rho = np.dot(X[:, j], residual)\n",
    "            w[j] = rho / np.dot(X[:, j], X[:, j])\n",
    "        \n",
    "        # Check for convergence\n",
    "        if np.linalg.norm(w - w_old, ord=1) < tol:\n",
    "            break\n",
    "    \n",
    "    return w\n",
    "\n",
    "# Run coordinate descent to find the coefficients\n",
    "coefficients = coordinate_descent(X, y)\n",
    "w0, w1, w2 = coefficients\n",
    "print(f\"w0: {w0}, w1: {w1}, w2: {w2}\")\n",
    "\n",
    "# Make a prediction for a house with 2080 square feet and 4 bedrooms\n",
    "living_area = 2080\n",
    "bedrooms = 4\n",
    "\n",
    "living_area_normalized = (living_area - mean_X[1]) / std_X[1]\n",
    "bedrooms_normalized = (bedrooms - mean_X[2]) / std_X[2]\n",
    "\n",
    "prediction = coefficients[0] + coefficients[1] * living_area_normalized + coefficients[2] * bedrooms_normalized\n",
    "print(f\"Predicted house price for 2080 ft^2 and 4 bedrooms: ${prediction:.2f}\")"
   ]
  },
  {
   "cell_type": "markdown",
   "id": "4a5e12ad-516c-4d0b-a7e9-092dcccdd792",
   "metadata": {},
   "source": [
    "# HW 4 Set 2 - Problem 2 (Hard Margin SVM Dual)"
   ]
  },
  {
   "cell_type": "markdown",
   "id": "42b1af59-05fd-405d-a5b6-37a57bdcb6ec",
   "metadata": {},
   "source": [
    "Solve the (hard-margin) support vector machine problem using the dataset “DataSetR2.txt”\n",
    "on Canvas by Lagrange duality. First, formulate and solve the Lagrange dual problem. Then obtain\n",
    "the optimal solution of the primal problem. Plot the data points and the separating hyperplane."
   ]
  },
  {
   "cell_type": "code",
   "execution_count": 4,
   "id": "75eba0f5-562c-4c5f-8e73-568e6a7a9cf5",
   "metadata": {
    "tags": []
   },
   "outputs": [],
   "source": [
    "from cvxopt import matrix, solvers\n",
    "import matplotlib.pyplot as plt"
   ]
  },
  {
   "cell_type": "code",
   "execution_count": 8,
   "id": "d163e078-b6ba-4568-a7ca-ef61311e7f5a",
   "metadata": {
    "tags": []
   },
   "outputs": [
    {
     "name": "stdout",
     "output_type": "stream",
     "text": [
      "     pcost       dcost       gap    pres   dres\n",
      " 0: -1.4160e+01 -2.1985e+01  4e+02  2e+01  2e+00\n",
      " 1: -7.0739e+00 -1.1404e+00  4e+01  2e+00  1e-01\n",
      " 2: -1.0917e-01 -8.0516e-02  7e-01  3e-02  2e-03\n",
      " 3: -1.5808e-02 -6.1677e-02  6e-02  8e-04  6e-05\n",
      " 4: -2.7690e-02 -3.9774e-02  1e-02  2e-04  1e-05\n",
      " 5: -3.1130e-02 -4.0542e-02  1e-02  8e-05  6e-06\n",
      " 6: -3.8509e-02 -3.9160e-02  7e-04  2e-06  1e-07\n",
      " 7: -3.8981e-02 -3.8999e-02  2e-05  5e-08  4e-09\n",
      " 8: -3.8995e-02 -3.8995e-02  2e-07  5e-10  4e-11\n",
      " 9: -3.8995e-02 -3.8995e-02  2e-09  5e-12  4e-13\n",
      "Optimal solution found.\n",
      "Optimal lambda values: [2.13105747e-11 1.39633561e-11 5.13655498e-12 5.85348986e-12\n",
      " 9.75729019e-11 5.59865544e-12 1.40363488e-11 5.22055770e-12\n",
      " 1.36295671e-11 5.84097631e-12 5.17950228e-12 9.54403803e-12\n",
      " 1.95541217e-11 2.75447476e-02 9.76635797e-12 7.96419399e-12\n",
      " 5.98377870e-12 5.29395535e-12 4.88956641e-12 5.74802141e-12\n",
      " 1.87205294e-11 3.33617919e-11 1.18427669e-11 1.02115950e-11\n",
      " 8.25986618e-12 7.29470043e-12 8.60830692e-12 4.60916251e-12\n",
      " 2.15574347e-11 5.90893325e-12 1.90658502e-11 1.58935929e-11\n",
      " 5.44342059e-12 1.31208602e-11 8.43256673e-12 9.67454290e-12\n",
      " 1.68139717e-11 4.31533621e-12 5.16730636e-10 1.15847913e-11\n",
      " 4.20533303e-12 4.34675191e-12 7.80514444e-12 7.51216702e-12\n",
      " 5.01124598e-12 8.03944541e-12 8.25820821e-12 4.55945453e-12\n",
      " 1.00999981e-11 4.06755621e-12 1.17938801e-11 8.27484838e-12\n",
      " 8.72324272e-12 4.56019180e-12 7.75384227e-12 6.97016187e-12\n",
      " 4.00470966e-12 4.83042575e-12 9.23663523e-09 1.21695407e-11\n",
      " 1.14501700e-02 4.07051958e-12 1.13344540e-11 5.57214147e-12\n",
      " 4.66261539e-12 3.91334410e-12 7.04262114e-12 1.03420231e-11\n",
      " 3.76861406e-12 6.10580102e-12 1.61659000e-11 7.35699949e-12\n",
      " 5.71340353e-12 3.82187396e-12 3.61562357e-12 3.83924714e-12\n",
      " 4.44399606e-12 3.64409893e-12 3.80929182e-12 5.80729699e-12\n",
      " 6.04194706e-12 1.11629903e-11 3.66753330e-12 6.93089035e-12\n",
      " 8.93154669e-12 6.76771232e-12 9.54619804e-12 9.21694078e-12\n",
      " 1.15606920e-11 4.04119933e-12 6.47928672e-12 3.83324102e-12\n",
      " 5.18778376e-12 4.96502349e-12 4.03070795e-12 5.48937687e-12\n",
      " 1.56406483e-11 3.75853354e-12 4.49379063e-12 7.05149356e-12\n",
      " 6.27594736e-12 6.84138642e-12 1.18546775e-11 4.63032524e-12\n",
      " 3.30751469e-12 5.46847133e-12 5.67965216e-12 6.17841447e-12\n",
      " 4.74067169e-12 6.15800284e-12 3.74890681e-12 1.74762320e-11\n",
      " 5.54917466e-12 4.73070810e-12 7.44674736e-12 4.96819416e-12\n",
      " 4.36051859e-12 9.10118326e-12 2.03432981e-11 4.43856935e-12\n",
      " 7.55332606e-12 3.91534095e-12 7.31967993e-12 9.28771591e-11\n",
      " 5.32282739e-12 1.21122229e-11 9.12148820e-12 9.03459788e-11\n",
      " 1.04539614e-10 8.05062173e-12 5.39782575e-12 1.06307232e-11\n",
      " 4.56773718e-12 6.28782472e-12 7.25867592e-12 4.54453132e-12\n",
      " 5.46124433e-12 7.72577097e-12 9.50017784e-12 4.77698024e-12\n",
      " 7.61156551e-12 4.20271271e-12 3.95587737e-12 1.39841538e-11\n",
      " 1.24727270e-11 7.69542391e-12 7.87318223e-12 6.41256525e-12\n",
      " 8.82886763e-12 1.40755856e-11 1.26066097e-10 8.70486338e-12\n",
      " 3.89949254e-02 1.37598473e-11 4.64356136e-12 2.20648809e-11\n",
      " 7.86597574e-12 7.48059021e-12 4.45236057e-12 6.08601746e-12\n",
      " 1.44649484e-11 9.32898143e-12 4.92724188e-12 1.31779057e-11\n",
      " 1.08468134e-11 1.81385969e-11 1.56470726e-11 4.89783665e-12\n",
      " 6.06659720e-12 1.77020551e-11 6.99460005e-12 4.67074722e-12\n",
      " 4.73245093e-12 4.53070684e-12 5.31080518e-12 5.08128229e-12\n",
      " 1.19325180e-10 1.70165992e-11 8.72127408e-12 2.15646210e-11\n",
      " 7.87904351e-12 1.57433509e-11 5.44288918e-11 1.30324061e-11\n",
      " 1.14872955e-11 5.30409465e-12 1.88849582e-11 8.71079915e-11\n",
      " 5.37586363e-12 1.01511533e-11 1.01815601e-10 1.01023322e-11\n",
      " 5.73319274e-12 5.25835712e-12 5.51938449e-12 6.41333816e-12\n",
      " 9.68950058e-12 4.47203296e-11 1.28154116e-09 6.03898503e-12]\n",
      "Prediction accuracy: 100.00%\n"
     ]
    },
    {
     "data": {
      "image/png": "[encoded data removed]",
      "text/plain": [
       "<Figure size 640x480 with 1 Axes>"
      ]
     },
     "metadata": {},
     "output_type": "display_data"
    }
   ],
   "source": [
    "# Load the dataset\n",
    "data = np.loadtxt('DataSetR2.txt')\n",
    "X = data[:, :-1]\n",
    "y = data[:, -1]\n",
    "\n",
    "# Number of samples\n",
    "m, n = X.shape\n",
    "\n",
    "# Construct the matrices for the quadratic programming problem\n",
    "K = np.dot(X, X.T) * np.outer(y, y)\n",
    "P = matrix(K)\n",
    "q = matrix(-np.ones(m))\n",
    "G = matrix(-np.eye(m))\n",
    "h = matrix(np.zeros(m))\n",
    "A = matrix(y, (1, m), 'd')\n",
    "b = matrix(0.0)\n",
    "\n",
    "# Solve the quadratic programming problem\n",
    "solution = solvers.qp(P, q, G, h, A, b)\n",
    "alphas = np.array(solution['x']).flatten()\n",
    "\n",
    "# Print the optimal lambda values\n",
    "print(\"Optimal lambda values:\", alphas)\n",
    "\n",
    "# Compute w*\n",
    "w = np.sum(alphas[:, None] * y[:, None] * X, axis=0)\n",
    "\n",
    "# Support vectors have non-zero lagrange multipliers\n",
    "support_vectors = np.where(alphas > 1e-5)[0]\n",
    "\n",
    "# Compute b*\n",
    "b = np.mean(y[support_vectors] - np.dot(X[support_vectors], w))\n",
    "\n",
    "# Predict function\n",
    "def predict(X, w, b):\n",
    "    return np.sign(np.dot(X, w) + b)\n",
    "\n",
    "# Predict the class labels for the training data\n",
    "y_pred = predict(X, w, b)\n",
    "\n",
    "# Calculate the prediction accuracy\n",
    "accuracy = np.mean(y_pred == y) * 100\n",
    "print(f\"Prediction accuracy: {accuracy:.2f}%\")\n",
    "\n",
    "# Plot data points\n",
    "plt.scatter(X[:, 0], X[:, 1], c=y, cmap='bwr', marker='o')\n",
    "\n",
    "# Plot the separating hyperplane\n",
    "x1 = np.linspace(np.min(X[:, 0]), np.max(X[:, 0]), 100)\n",
    "x2 = (-w[0] * x1 - b) / w[1]\n",
    "plt.plot(x1, x2, 'k-')\n",
    "\n",
    "# Plot support vectors\n",
    "plt.scatter(X[support_vectors][:, 0], X[support_vectors][:, 1], s=100, facecolors='none')\n",
    "\n",
    "plt.xlabel('x1')\n",
    "plt.ylabel('x2')\n",
    "plt.title('Hard-margin SVM with Lagrange Duality')\n",
    "plt.show()\n"
   ]
  },
  {
   "cell_type": "markdown",
   "id": "6b581dc3-29ac-4707-9844-80cc6c173bee",
   "metadata": {},
   "source": [
    "# HW 4 Set 2 - Problem 3 (Soft Margin SVM Dual)"
   ]
  },
  {
   "cell_type": "markdown",
   "id": "94c8c2a4-5a3b-4ab2-bc49-1d5b42c2540b",
   "metadata": {},
   "source": [
    "(a) Use the Lagrange duality to solve the (soft-margin) support vector machine prob-\n",
    "lem on the “irisversicolorandvirginica.txt”. Your Python program uses\n",
    "the training data (80% elements of the dataset) to find the separating hyperplane determined by\n",
    "$w = [w_1, w_2, w_3, w_4, b]$. Then use the test data (20% remaining elements of the dataset) to show the\n",
    "accuracy of your method."
   ]
  },
  {
   "cell_type": "code",
   "execution_count": 9,
   "id": "e83b0b1d-3890-4bcc-b7f7-4dac3e6ccb29",
   "metadata": {
    "tags": []
   },
   "outputs": [],
   "source": [
    "from sklearn.model_selection import train_test_split\n",
    "from sklearn.preprocessing import StandardScaler"
   ]
  },
  {
   "cell_type": "code",
   "execution_count": 21,
   "id": "1e759d52-845b-40b6-91aa-69af670ac997",
   "metadata": {
    "tags": []
   },
   "outputs": [
    {
     "name": "stdout",
     "output_type": "stream",
     "text": [
      "     pcost       dcost       gap    pres   dres\n",
      " 0: -8.9721e+00 -7.1674e+00  4e+02  2e+01  1e-15\n",
      " 1: -1.2068e+00 -6.9011e+00  1e+01  4e-01  1e-15\n",
      " 2: -9.6569e-01 -2.8117e+00  2e+00  9e-17  6e-16\n",
      " 3: -1.1670e+00 -1.4871e+00  3e-01  7e-17  6e-16\n",
      " 4: -1.2560e+00 -1.3461e+00  9e-02  8e-17  5e-16\n",
      " 5: -1.2800e+00 -1.3093e+00  3e-02  7e-17  5e-16\n",
      " 6: -1.2903e+00 -1.2975e+00  7e-03  8e-17  4e-16\n",
      " 7: -1.2934e+00 -1.2936e+00  3e-04  8e-17  5e-16\n",
      " 8: -1.2935e+00 -1.2935e+00  6e-06  1e-16  5e-16\n",
      " 9: -1.2935e+00 -1.2935e+00  2e-07  9e-17  6e-16\n",
      "Optimal solution found.\n",
      "Optimal lambda values: [4.99999993e-02 9.06785587e-10 4.65494528e-10 4.99999989e-02\n",
      " 4.99999996e-02 4.57515521e-10 3.46747962e-09 5.15980507e-04\n",
      " 4.99999992e-02 4.99999996e-02 4.99999993e-02 9.57895057e-10\n",
      " 5.94086583e-09 2.70525852e-08 4.99999978e-02 4.99999965e-02\n",
      " 3.66180326e-10 4.99999988e-02 6.70676601e-10 4.99999991e-02\n",
      " 1.88930418e-09 1.38566574e-09 2.79899541e-09 6.54224327e-10\n",
      " 4.99999996e-02 4.99999986e-02 4.99999992e-02 5.52685503e-10\n",
      " 1.94623918e-09 3.41224283e-10 4.99999992e-02 4.50278855e-10\n",
      " 4.99999987e-02 4.99999985e-02 3.43761695e-02 2.08782004e-09\n",
      " 4.99999987e-02 4.55960992e-10 5.90047681e-10 3.35665219e-09\n",
      " 4.99999996e-02 2.29107155e-09 9.81568510e-10 5.50494371e-10\n",
      " 4.99999992e-02 4.99999994e-02 4.99999989e-02 1.08028277e-09\n",
      " 5.11088442e-10 5.27509773e-09 4.41520097e-09 4.99999995e-02\n",
      " 9.11350491e-10 9.57835714e-10 4.99999989e-02 4.99999995e-02\n",
      " 4.99999989e-02 2.03486599e-09 3.48921254e-02 1.57845760e-09\n",
      " 3.87978265e-10 4.99999997e-02 4.99999992e-02 9.84019861e-10\n",
      " 1.07378673e-09 7.35495076e-10 1.20497747e-09 4.64474175e-09\n",
      " 4.99999993e-02 4.99999996e-02 1.21250469e-09 4.99999991e-02\n",
      " 4.01948137e-09 4.99999982e-02 4.99999985e-02 8.82775808e-10\n",
      " 4.99999991e-02 4.99999990e-02 2.42367364e-10 3.92059174e-10]\n",
      "Prediction accuracy: 95.00%\n"
     ]
    }
   ],
   "source": [
    "# Load the dataset\n",
    "data = np.loadtxt('irisversicolorandvirginica.txt')\n",
    "y = data[:, 0]  # Labels are in the first column\n",
    "X = data[:, 1:]  # Features are in the remaining columns\n",
    "\n",
    "# Split the data into training and testing\n",
    "X_train, X_test, y_train, y_test = train_test_split(X, y, test_size=0.2)\n",
    "\n",
    "# Scale features\n",
    "scaler = StandardScaler()\n",
    "X_train = scaler.fit_transform(X_train)\n",
    "X_test = scaler.transform(X_test)\n",
    "\n",
    "# dimensions\n",
    "m, n = X_train.shape\n",
    "\n",
    "# Regularization parameter\n",
    "C = 4.0  \n",
    "\n",
    "# Construct the matrices for the quadratic programming problem\n",
    "K = np.dot(X_train, X_train.T) * np.outer(y_train, y_train)\n",
    "P = matrix(K)\n",
    "q = matrix(-np.ones(m))\n",
    "G = matrix(np.vstack((-np.eye(m), np.eye(m))))\n",
    "h = matrix(np.hstack((np.zeros(m), np.ones(m) * C / m)))\n",
    "A = matrix(y_train, (1, m), 'd')\n",
    "b = matrix(0.0)\n",
    "\n",
    "# Solve the quadratic programming problem\n",
    "solution = solvers.qp(P, q, G, h, A, b)\n",
    "lambdas = np.array(solution['x']).flatten()\n",
    "\n",
    "# Print the optimal lambda values\n",
    "print(\"Optimal lambda values:\", lambdas)\n",
    "\n",
    "# Compute optimal w solution\n",
    "w = np.sum(lambdas[:, None] * y_train[:, None] * X_train, axis=0)\n",
    "\n",
    "# Support vectors have non-zero Lagrange multipliers\n",
    "support_vectors = np.where(lambdas > 1e-5)[0]\n",
    "\n",
    "# Compute optimal b solution\n",
    "b = np.mean(y_train[support_vectors] - np.dot(X_train[support_vectors], w))\n",
    "\n",
    "# Predict function\n",
    "def predict(X, w, b):\n",
    "    return np.sign(np.dot(X, w) + b)\n",
    "\n",
    "# Predict the class labels for the test data\n",
    "y_pred = predict(X_test, w, b)\n",
    "\n",
    "# Calculate the prediction accuracy\n",
    "accuracy = np.mean(y_pred == y_test) * 100\n",
    "print(f\"Prediction accuracy: {accuracy:.2f}%\")"
   ]
  },
  {
   "cell_type": "markdown",
   "id": "051ee9b6-8721-49ba-9310-5aa4ad66c30c",
   "metadata": {},
   "source": [
    "(b) Use the kernel method with the Gaussian kernel to solve the problem in part (a)."
   ]
  },
  {
   "cell_type": "code",
   "execution_count": 34,
   "id": "d0184bbd-45c5-4693-981e-7a3849214f29",
   "metadata": {
    "tags": []
   },
   "outputs": [
    {
     "name": "stdout",
     "output_type": "stream",
     "text": [
      "     pcost       dcost       gap    pres   dres\n",
      " 0: -9.1385e+00 -9.8683e+00  4e+02  2e+01  5e-16\n",
      " 1: -3.9964e+00 -8.6016e+00  2e+01  7e-01  5e-16\n",
      " 2: -2.8134e+00 -5.5151e+00  3e+00  1e-16  2e-15\n",
      " 3: -3.0365e+00 -3.2348e+00  2e-01  8e-17  6e-16\n",
      " 4: -3.1388e+00 -3.1445e+00  6e-03  8e-17  5e-16\n",
      " 5: -3.1428e+00 -3.1429e+00  6e-05  9e-17  5e-16\n",
      " 6: -3.1429e+00 -3.1429e+00  6e-07  1e-16  5e-16\n",
      "Optimal solution found.\n",
      "Optimal lambda values: [0.05       0.05       0.05       0.05       0.05       0.04999999\n",
      " 0.05       0.05       0.04999995 0.04999999 0.04999999 0.04999999\n",
      " 0.04999997 0.05       0.04999997 0.04999999 0.04999999 0.05\n",
      " 0.05       0.04999994 0.04999998 0.05       0.05       0.04999998\n",
      " 0.04999998 0.04999997 0.04999998 0.05       0.05       0.04999999\n",
      " 0.04999999 0.05       0.05       0.05       0.04999996 0.05\n",
      " 0.04999999 0.04999999 0.04999999 0.04999998 0.04999997 0.04999999\n",
      " 0.04999999 0.04999996 0.04999999 0.04999999 0.05       0.05\n",
      " 0.05       0.04999999 0.04999999 0.05       0.04999999 0.05\n",
      " 0.04999999 0.04999998 0.05       0.05       0.04999999 0.05\n",
      " 0.04999997 0.05       0.04999999 0.04999995 0.04999998 0.04999996\n",
      " 0.05       0.05       0.04999999 0.04999994 0.04999998 0.04999998\n",
      " 0.04999997 0.04999995 0.04999999 0.05       0.04999996 0.04999999\n",
      " 0.04999998 0.05      ]\n",
      "Prediction accuracy: 100.00%\n"
     ]
    }
   ],
   "source": [
    "# Load the dataset\n",
    "data = np.loadtxt('irisversicolorandvirginica.txt')\n",
    "y = data[:, 0]  # Labels are in the first column\n",
    "X = data[:, 1:]  # Features are in the remaining columns\n",
    "\n",
    "# Split the data into training and testing\n",
    "X_train, X_test, y_train, y_test = train_test_split(X, y, test_size=0.2)\n",
    "\n",
    "# Scale features\n",
    "scaler = StandardScaler()\n",
    "X_train = scaler.fit_transform(X_train)\n",
    "X_test = scaler.transform(X_test)\n",
    "\n",
    "# dimensions\n",
    "m, n = X_train.shape\n",
    "\n",
    "# Regularization parameter\n",
    "C = 4.0  \n",
    "\n",
    "# Kernel function (RBF kernel)\n",
    "def rbf_kernel(X, Y, gamma=0.5):\n",
    "    K = np.exp(-gamma * np.linalg.norm(X[:, np.newaxis] - Y[np.newaxis, :], axis=2) ** 2)\n",
    "    return K\n",
    "\n",
    "# Number of training samples\n",
    "m, n = X_train.shape\n",
    "\n",
    "# Regularization parameter\n",
    "C = 4.0  # You can adjust this parameter\n",
    "\n",
    "# Construct the matrices for the quadratic programming problem using the RBF kernel\n",
    "K_train = rbf_kernel(X_train, X_train)\n",
    "P = matrix(np.outer(y_train, y_train) * K_train)\n",
    "q = matrix(-np.ones(m))\n",
    "G = matrix(np.vstack((-np.eye(m), np.eye(m))))\n",
    "h = matrix(np.hstack((np.zeros(m), np.ones(m) * C / m)))\n",
    "A = matrix(y_train, (1, m), 'd')\n",
    "b = matrix(0.0)\n",
    "\n",
    "# Solve the quadratic programming problem\n",
    "solution = solvers.qp(P, q, G, h, A, b)\n",
    "lambdas = np.array(solution['x']).flatten()\n",
    "\n",
    "# Print the optimal lambda values\n",
    "print(\"Optimal lambda values:\", lambdas)\n",
    "\n",
    "# Support vectors have non-zero Lagrange multipliers\n",
    "support_vectors = np.where(lambdas > 1e-5)[0]\n",
    "\n",
    "# Compute the bias term b*\n",
    "b = np.mean([y_train[i] - np.sum(lambdas * y_train * K_train[:, i]) for i in support_vectors])\n",
    "\n",
    "# Predict function using the kernel\n",
    "def predict(X_train, y_train, X_test, lambdas, b, kernel, gamma=0.5):\n",
    "    K_test = kernel(X_train, X_test, gamma)\n",
    "    y_pred = np.sign(np.sum((lambdas * y_train)[:, np.newaxis] * K_test, axis=0) + b)\n",
    "    return y_pred\n",
    "\n",
    "# Predict the class labels for the test data\n",
    "y_pred = predict(X_train, y_train, X_test, lambdas, b, rbf_kernel)\n",
    "\n",
    "# Calculate the prediction accuracy\n",
    "accuracy = np.mean(y_pred == y_test) * 100\n",
    "print(f\"Prediction accuracy: {accuracy:.2f}%\")"
   ]
  }
 ],
 "metadata": {
  "kernelspec": {
   "display_name": "Python [conda env:optimization]",
   "language": "python",
   "name": "conda-env-optimization-py"
  },
  "language_info": {
   "codemirror_mode": {
    "name": "ipython",
    "version": 3
   },
   "file_extension": ".py",
   "mimetype": "text/x-python",
   "name": "python",
   "nbconvert_exporter": "python",
   "pygments_lexer": "ipython3",
   "version": "3.10.13"
  }
 },
 "nbformat": 4,
 "nbformat_minor": 5
}
