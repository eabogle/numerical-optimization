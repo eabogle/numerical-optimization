{
 "cells": [
  {
   "cell_type": "markdown",
   "id": "b7fcc4e2-afc2-4d40-a716-f03172361015",
   "metadata": {},
   "source": [
    "Define the function $f:\\mathbb{R}^n\\to\\mathbb{R}$ by $$f(x)=\\sum_{i=1}^m ||x-a_i||,$$ where $a_1,\\dots,a_m$ are $m$ points given in $\\mathbb{R}^n$. The task is to minimize $f(x)$ over $\\mathbb{R}^n$."
   ]
  },
  {
   "cell_type": "markdown",
   "id": "85af7d44-1cfb-4b6e-8af7-8549c5242c5c",
   "metadata": {},
   "source": [
    "a) For the case where $n=2$, $m=3$ and the points $a_1,a_2,a_3$ are given as $a_1=[-6,-1]^T, a_2=[0,5]^T, \\textrm{ and }a_3=[7,-8]^T$:\n",
    "- Write a Python program using the subgradient method to solve the minimization problem.\n",
    "- Plot the points $a_1,a_2,a_3$ and the optimal solution obtained. Draw line segments connecting the optimal solution to each point $a_i$. \n",
    "\\\\~\\\\\n",
    "b) For the case where $n=2$ and the points $a_i$ are derived from the dataset named \"USCity.xlsx\" on Canvas:\n",
    "- Write a Python "
   ]
  }
 ],
 "metadata": {
  "kernelspec": {
   "display_name": "Python [conda env:optimization]",
   "language": "python",
   "name": "conda-env-optimization-py"
  },
  "language_info": {
   "codemirror_mode": {
    "name": "ipython",
    "version": 3
   },
   "file_extension": ".py",
   "mimetype": "text/x-python",
   "name": "python",
   "nbconvert_exporter": "python",
   "pygments_lexer": "ipython3",
   "version": "3.10.13"
  }
 },
 "nbformat": 4,
 "nbformat_minor": 5
}
