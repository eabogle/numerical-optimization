{
 "cells": [
  {
   "cell_type": "markdown",
   "id": "67a39fb1-3893-428b-b969-5fef05609cd3",
   "metadata": {},
   "source": [
    "# HW 1 Set 2 - Problem 2 (Smallest Enclosing Circle Problem)"
   ]
  }
 ],
 "metadata": {
  "kernelspec": {
   "display_name": "Python [conda env:optimization]",
   "language": "python",
   "name": "conda-env-optimization-py"
  },
  "language_info": {
   "codemirror_mode": {
    "name": "ipython",
    "version": 3
   },
   "file_extension": ".py",
   "mimetype": "text/x-python",
   "name": "python",
   "nbconvert_exporter": "python",
   "pygments_lexer": "ipython3",
   "version": "3.10.13"
  }
 },
 "nbformat": 4,
 "nbformat_minor": 5
}
